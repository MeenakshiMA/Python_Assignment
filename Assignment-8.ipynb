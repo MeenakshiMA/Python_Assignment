{
 "cells": [
  {
   "cell_type": "markdown",
   "id": "0145335f",
   "metadata": {},
   "source": [
    "## Assignment-8"
   ]
  },
  {
   "cell_type": "raw",
   "id": "b812f997",
   "metadata": {},
   "source": [
    "Q1. Is the Python Standard Library included with PyInputPlus?\n",
    "Ans- PyInputPlus is included with python standard library, Its a Python module used for taking inputs with additional            validation features. PyInputPlus will keep asking the user for text until they enter valid input."
   ]
  },
  {
   "cell_type": "raw",
   "id": "f18727c6",
   "metadata": {},
   "source": [
    "Q2. Why is PyInputPlus commonly imported with import pyinputplus as pypi?\n",
    "Ans- We can import the module with import pyinputplus as pyip so that you can enter a shorter name when calling the              module's functions. PyInputPlus has functions for entering a variety of input, including strings, numbers, dates,          yes/no, True/False, emails, and files."
   ]
  },
  {
   "cell_type": "raw",
   "id": "0dfc26be",
   "metadata": {},
   "source": [
    "Q3. How do you distinguish between inputInt() and inputFloat()?\n",
    "Ans- inputInt() : Accepts an integer value.\n",
    "     inputFloat() : Accepts a floating-point numeric value."
   ]
  },
  {
   "cell_type": "raw",
   "id": "a597a89e",
   "metadata": {},
   "source": [
    "Q4. Using PyInputPlus, how do you ensure that the user enters a whole number between 0 and 99?\n",
    "Ans- By using pyip.inputint(min=0, max=99)"
   ]
  },
  {
   "cell_type": "raw",
   "id": "b4c1cd42",
   "metadata": {},
   "source": [
    "Q5. What is transferred to the keyword arguments allowRegexes and blockRegexes?\n",
    "Ans-"
   ]
  },
  {
   "cell_type": "raw",
   "id": "058ffa42",
   "metadata": {},
   "source": [
    "Q6. If a blank input is entered three times, what does inputStr(limit=3) do?\n",
    "Ans-"
   ]
  },
  {
   "cell_type": "raw",
   "id": "9bc0e248",
   "metadata": {},
   "source": [
    "Q7. If blank input is entered three times, what does inputStr(limit=3, default='hello') do?\n",
    "Ans-"
   ]
  },
  {
   "cell_type": "raw",
   "id": "110d65ac",
   "metadata": {},
   "source": []
  },
  {
   "cell_type": "raw",
   "id": "d5efb16f",
   "metadata": {},
   "source": []
  }
 ],
 "metadata": {
  "kernelspec": {
   "display_name": "Python 3 (ipykernel)",
   "language": "python",
   "name": "python3"
  },
  "language_info": {
   "codemirror_mode": {
    "name": "ipython",
    "version": 3
   },
   "file_extension": ".py",
   "mimetype": "text/x-python",
   "name": "python",
   "nbconvert_exporter": "python",
   "pygments_lexer": "ipython3",
   "version": "3.9.7"
  }
 },
 "nbformat": 4,
 "nbformat_minor": 5
}
