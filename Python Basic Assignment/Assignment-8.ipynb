{
 "cells": [
  {
   "cell_type": "markdown",
   "id": "0145335f",
   "metadata": {},
   "source": [
    "## Assignment-8\n",
    "---------------------------------------------------------------------------------------------"
   ]
  },
  {
   "cell_type": "markdown",
   "id": "413e0b3a",
   "metadata": {},
   "source": [
    "#### Q1. Is the Python Standard Library included with PyInputPlus?\n",
    "Ans:   \n",
    "PyInputPlus is included with python standard library, Its a Python module used for taking inputs with additional            validation features. PyInputPlus will keep asking the user for text until they enter valid input."
   ]
  },
  {
   "cell_type": "markdown",
   "id": "b91a3519",
   "metadata": {},
   "source": [
    "#### Q2. Why is PyInputPlus commonly imported with import pyinputplus as pypi?\n",
    "Ans:  \n",
    "We can import the module with import pyinputplus as pyip so that you can enter a shorter name when calling the              module's functions. PyInputPlus has functions for entering a variety of input, including strings, numbers, dates,          yes/no, True/False, emails, and files."
   ]
  },
  {
   "cell_type": "markdown",
   "id": "d9e3cd15",
   "metadata": {},
   "source": [
    "#### Q3. How do you distinguish between inputInt() and inputFloat()?\n",
    "Ans: \n",
    "- inputInt() : Accepts an integer value.\n",
    "- inputFloat() : Accepts a floating-point numeric value."
   ]
  },
  {
   "cell_type": "markdown",
   "id": "866e4671",
   "metadata": {},
   "source": [
    "#### Q4. Using PyInputPlus, how do you ensure that the user enters a whole number between 0 and 99?\n",
    "Ans- By using pyip.inputint(min=0, max=99)"
   ]
  },
  {
   "cell_type": "markdown",
   "id": "68512e25",
   "metadata": {},
   "source": [
    "#### Q5. What is transferred to the keyword arguments allowRegexes and blockRegexes?\n",
    "Ans:   \n",
    "We can use regular expression to specify whether an input is allowed or not.  \n",
    "The allowRegexes and blockRegexes keyword argument take a list of regular expression string to determine what the PyInputPlus function will accept or reject as valid input.   \n",
    "\n",
    "Example:   \n",
    "- pyip.inputNum(allowRegexes=[r'(I|V|X|L|C|D|M)+', r'zero']) # it allowes roman letters as numbers too\n",
    "- pyip.inputNum(blockRegexes=[r\"[02468]$\"])# blocks the even numbers"
   ]
  },
  {
   "cell_type": "markdown",
   "id": "e772f7f5",
   "metadata": {},
   "source": [
    "#### Q6. If a blank input is entered three times, what does inputStr(limit=3) do?\n",
    "Ans:   \n",
    "inputStr() raises a TimeoutException exception. If the user answers incorrectly more than 3 times, it raises a RetryLimitException exception."
   ]
  },
  {
   "cell_type": "markdown",
   "id": "4cb3c0ef",
   "metadata": {},
   "source": [
    "#### Q7. If blank input is entered three times, what does inputStr(limit=3, default='hello') do?\n",
    "Ans:    \n",
    "When you use limit keyword arguments and also pass a default keyword argument, the function returns the default value instead of raising an exception"
   ]
  },
  {
   "cell_type": "code",
   "execution_count": null,
   "id": "87d4cb3d",
   "metadata": {},
   "outputs": [],
   "source": []
  }
 ],
 "metadata": {
  "kernelspec": {
   "display_name": "Python 3 (ipykernel)",
   "language": "python",
   "name": "python3"
  },
  "language_info": {
   "codemirror_mode": {
    "name": "ipython",
    "version": 3
   },
   "file_extension": ".py",
   "mimetype": "text/x-python",
   "name": "python",
   "nbconvert_exporter": "python",
   "pygments_lexer": "ipython3",
   "version": "3.9.7"
  }
 },
 "nbformat": 4,
 "nbformat_minor": 5
}
