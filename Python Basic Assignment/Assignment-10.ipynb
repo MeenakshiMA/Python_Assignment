{
 "cells": [
  {
   "cell_type": "markdown",
   "id": "5b0ea988",
   "metadata": {},
   "source": [
    "## Assignment-10"
   ]
  },
  {
   "cell_type": "markdown",
   "id": "c8997ea0",
   "metadata": {},
   "source": [
    "#### Q1. How do you distinguish between shutil.copy() and shutil.copytree()?\n",
    "Ans:   \n",
    "shutil.copy() will copy a single file and shutil.copytree() will copy an entire folder and every folder and file contained in it."
   ]
  },
  {
   "cell_type": "markdown",
   "id": "47c3f8fc",
   "metadata": {},
   "source": [
    "#### Q2. What function is used to rename files??\n",
    "Ans:   \n",
    "os.rename()"
   ]
  },
  {
   "cell_type": "markdown",
   "id": "5fd5c23c",
   "metadata": {},
   "source": [
    "#### Q3. What is the difference between the delete functions in the send2trash and shutil modules?\n",
    "Ans:   \n",
    "The send2trash functions will move a file or folder to the recycle bin, while shutil functions will permanently delete files and folders."
   ]
  },
  {
   "cell_type": "markdown",
   "id": "59e7e290",
   "metadata": {},
   "source": [
    "#### Q4.ZipFile objects have a close() method just like File objects’ close() method. What ZipFile method is equivalent to File objects’ open() method?\n",
    "Ans:   \n",
    "zipfile()"
   ]
  },
  {
   "cell_type": "markdown",
   "id": "244b4111",
   "metadata": {},
   "source": [
    "#### Q5. Create a programme that searches a folder tree for files with a certain file extension (such as .pdf or .jpg). Copy these files from whatever location they are in to a new folder.\n",
    "Ans:  "
   ]
  },
  {
   "cell_type": "code",
   "execution_count": 2,
   "id": "739298b2",
   "metadata": {},
   "outputs": [
    {
     "name": "stdout",
     "output_type": "stream",
     "text": [
      "Files have been successfully copied from D:\\Documents to D:\\Documents\\New folder\n"
     ]
    }
   ],
   "source": [
    "import os,shutil\n",
    "def CopyFile(src,dst,ext):\n",
    "    try: \n",
    "        for file in os.listdir(src):\n",
    "            if file.endswith(ext):\n",
    "                shutil.copy(os.path.join(src,file),dst)\n",
    "        print(f'Files have been successfully copied from {src} to {dst}')\n",
    "    except Exception as e:\n",
    "        print(e)\n",
    "\n",
    "CopyFile(r'D:\\Documents', r'D:\\Documents\\New folder', '.pdf')"
   ]
  },
  {
   "cell_type": "code",
   "execution_count": null,
   "id": "810deb28",
   "metadata": {},
   "outputs": [],
   "source": []
  }
 ],
 "metadata": {
  "kernelspec": {
   "display_name": "Python 3 (ipykernel)",
   "language": "python",
   "name": "python3"
  },
  "language_info": {
   "codemirror_mode": {
    "name": "ipython",
    "version": 3
   },
   "file_extension": ".py",
   "mimetype": "text/x-python",
   "name": "python",
   "nbconvert_exporter": "python",
   "pygments_lexer": "ipython3",
   "version": "3.9.7"
  }
 },
 "nbformat": 4,
 "nbformat_minor": 5
}
