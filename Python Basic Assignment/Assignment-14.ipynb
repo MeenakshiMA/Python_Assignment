{
 "cells": [
  {
   "cell_type": "markdown",
   "id": "6dc105cd",
   "metadata": {},
   "source": [
    "# Assignment-14"
   ]
  },
  {
   "cell_type": "markdown",
   "id": "e345ba97",
   "metadata": {},
   "source": [
    "#### Q1. What does RGBA stand for?\n",
    "Ans:     \n",
    "RGBA:Red-Green-Blue-Alpha"
   ]
  },
  {
   "cell_type": "markdown",
   "id": "bba5a379",
   "metadata": {},
   "source": [
    "#### Q2. From the Pillow module, how do you get the RGBA value of any images?\n",
    "Ans:  \n",
    "from PIL import ImageColor\n",
    "\n",
    "ImageColor.getcolor(color_name, 'RGBA')"
   ]
  },
  {
   "cell_type": "markdown",
   "id": "54c7ce50",
   "metadata": {},
   "source": [
    "#### Q3. What is a box tuple, and how does it work?\n",
    "Ans:     \n",
    "Many Pillow's function take box tuple argument. This means pillow is taking a tuple of four integer coordinates that expecting a rectangular region in image. The four integers are in order left, top, right, bottom."
   ]
  },
  {
   "cell_type": "markdown",
   "id": "b02ecfda",
   "metadata": {},
   "source": [
    "#### Q4. Use your image and load in notebook then, How can you find out the width and height of an Image object?\n",
    "Ans:     "
   ]
  },
  {
   "cell_type": "code",
   "execution_count": 1,
   "id": "d76344bc",
   "metadata": {},
   "outputs": [
    {
     "name": "stdout",
     "output_type": "stream",
     "text": [
      "width= 626\n",
      "height= 498\n"
     ]
    }
   ],
   "source": [
    "from PIL import Image\n",
    "im=Image.open(\"image.png\")\n",
    "width, height = im.size\n",
    "print(\"width=\", width)\n",
    "print(\"height=\", height)"
   ]
  },
  {
   "cell_type": "markdown",
   "id": "2080fa62",
   "metadata": {},
   "source": [
    "#### Q5. What method would you call to get Image object for a 100×100 image, excluding the lower-left quarter of it?\n",
    "Ans:    \n",
    "from PIL import Image     \n",
    "Image.new('RGBA', (100,100))"
   ]
  },
  {
   "cell_type": "markdown",
   "id": "ade2a2fb",
   "metadata": {},
   "source": [
    "#### Q6. After making changes to an Image object, how could you save it as an image file?\n",
    "Ans:    \n",
    "save(filename)"
   ]
  },
  {
   "cell_type": "markdown",
   "id": "b2b84172",
   "metadata": {},
   "source": [
    "#### Q7. What module contains Pillow’s shape-drawing code?\n",
    "Ans:      \n",
    "ImageDraw "
   ]
  },
  {
   "cell_type": "markdown",
   "id": "87fb384b",
   "metadata": {},
   "source": [
    "#### Q8. Image objects do not have drawing methods. What kind of object does? How do you get this kind of object?\n",
    "Ans:    \n",
    "wand.drawing.Drawing object has drawing methods.    \n",
    " \n",
    "from wand.drawing import Drawing"
   ]
  },
  {
   "cell_type": "code",
   "execution_count": null,
   "id": "89a66c5d",
   "metadata": {},
   "outputs": [],
   "source": []
  }
 ],
 "metadata": {
  "kernelspec": {
   "display_name": "Python 3 (ipykernel)",
   "language": "python",
   "name": "python3"
  },
  "language_info": {
   "codemirror_mode": {
    "name": "ipython",
    "version": 3
   },
   "file_extension": ".py",
   "mimetype": "text/x-python",
   "name": "python",
   "nbconvert_exporter": "python",
   "pygments_lexer": "ipython3",
   "version": "3.9.7"
  }
 },
 "nbformat": 4,
 "nbformat_minor": 5
}
