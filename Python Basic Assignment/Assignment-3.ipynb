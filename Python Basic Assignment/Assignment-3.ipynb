{
 "cells": [
  {
   "cell_type": "markdown",
   "id": "3e2f942c",
   "metadata": {},
   "source": [
    "# Assignment-3"
   ]
  },
  {
   "cell_type": "raw",
   "id": "2107927f",
   "metadata": {},
   "source": [
    "Q1. Why are functions advantageous to have in your programs?\n",
    "Ans- A function can be defined once and used many times.\n",
    "     Functions reduce the need for duplicate code, this makes programs shorter, easier to read, and easier to update.\n",
    "     Its call the same function with different inputs over multiple times.\n",
    "     "
   ]
  },
  {
   "cell_type": "raw",
   "id": "4200cf3a",
   "metadata": {},
   "source": [
    "Q2. When does the code in a function run: when it's specified or when it's called?\n",
    "Ans- Fuction run when its called"
   ]
  },
  {
   "cell_type": "raw",
   "id": "7e5a3f67",
   "metadata": {},
   "source": [
    "Q3. What statement creates a function?\n",
    "Ans- The function creates using 'def' keyword, the statements in the block of the function must be indented.\n",
    "     The def keyword is followed by function name, brakets, and colon."
   ]
  },
  {
   "cell_type": "raw",
   "id": "8467c7b1",
   "metadata": {},
   "source": [
    "Q4. What is the difference between a function and a function call?\n",
    "Ans- Function:\n",
    "     * A function is a block of code that does a particular operation and returns a result.\n",
    "     * Its usally accepts input as parameters and returns a result.\n",
    "     \n",
    "     Function call:\n",
    "     * A function call means invoking or calling that function.\n",
    "     * Unless a function is called there is no use of that function.\n",
    "\n",
    "     "
   ]
  },
  {
   "cell_type": "raw",
   "id": "0300d0a7",
   "metadata": {},
   "source": [
    "Q5. How many global scopes are there in a Python program? How many local scopes?\n",
    "Ans- Only one global scope per program execution. And a local scope is created whenever a function is called."
   ]
  },
  {
   "cell_type": "raw",
   "id": "508f5a0d",
   "metadata": {},
   "source": [
    "Q6. What happens to variables in a local scope when the function call returns?\n",
    "Ans- When the execution of the function returns (terminates), the local variables are destroyed. "
   ]
  },
  {
   "cell_type": "raw",
   "id": "d05c523b",
   "metadata": {},
   "source": [
    "Q7. What is the concept of a return value? Is it possible to have a return value in an expression?\n",
    "Ans- A return value is the value that a function call evaluates to. Like any value, \n",
    "     A return value can be used as part of an expression."
   ]
  },
  {
   "cell_type": "raw",
   "id": "f4976e29",
   "metadata": {},
   "source": [
    "Q8. If a function does not have a return statement, what is the return value of a call to that function?\n",
    "Ans- If there is no return statement for a function, its return value is None.\n",
    "     Control automatically returns to the calling function after the last statement of the called function is executed."
   ]
  },
  {
   "cell_type": "raw",
   "id": "8af3fb7d",
   "metadata": {},
   "source": [
    "Q9. How do you make a function variable refer to the global variable?\n",
    "Ans- To refer a global variable in a function, you can use the global keyword to declare which variables are global."
   ]
  },
  {
   "cell_type": "raw",
   "id": "c393838d",
   "metadata": {},
   "source": [
    "Q10. What is the data type of None?\n",
    "Ans- None is keyword,it is an object, and it is a data type of the class NoneType"
   ]
  },
  {
   "cell_type": "raw",
   "id": "629df017",
   "metadata": {},
   "source": [
    "Q11. What does the sentence import areallyourpetsnamederic do?\n",
    "Ans- The sentence of import is imports the module name areallyourpetsnamederic"
   ]
  },
  {
   "cell_type": "raw",
   "id": "f9ba104d",
   "metadata": {},
   "source": [
    "Q12. If you had a bacon() feature in a spam module, what would you call it after importing spam?\n",
    "Ans- This function can be called with spam.bacon()"
   ]
  },
  {
   "cell_type": "raw",
   "id": "8dbecd7b",
   "metadata": {},
   "source": [
    "Q13. What can you do to save a programme from crashing if it encounters an error?\n",
    "Ans- Error handling can be used to notify the user of why the error occurred"
   ]
  },
  {
   "cell_type": "raw",
   "id": "fba368af",
   "metadata": {},
   "source": [
    "Q14. What is the purpose of the try clause? What is the purpose of the except clause?\n",
    "Ans- The try block allows you to test a block of code for errors. \n",
    "     The except block enables you to handle the error with a user-defined response."
   ]
  },
  {
   "cell_type": "raw",
   "id": "d6425d75",
   "metadata": {},
   "source": []
  }
 ],
 "metadata": {
  "kernelspec": {
   "display_name": "Python 3",
   "language": "python",
   "name": "python3"
  },
  "language_info": {
   "codemirror_mode": {
    "name": "ipython",
    "version": 3
   },
   "file_extension": ".py",
   "mimetype": "text/x-python",
   "name": "python",
   "nbconvert_exporter": "python",
   "pygments_lexer": "ipython3",
   "version": "3.8.8"
  }
 },
 "nbformat": 4,
 "nbformat_minor": 5
}
