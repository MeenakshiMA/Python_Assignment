{
 "cells": [
  {
   "cell_type": "markdown",
   "id": "91407516",
   "metadata": {},
   "source": [
    "# Assignment-7"
   ]
  },
  {
   "cell_type": "markdown",
   "id": "0292a701",
   "metadata": {},
   "source": [
    "#### Q1. What is the name of the feature responsible for generating Regex objects?\n",
    "###### Ans:\n",
    "The re.compile() function returns Regex objects."
   ]
  },
  {
   "cell_type": "markdown",
   "id": "57813486",
   "metadata": {},
   "source": [
    "#### Q2. Why do raw strings often appear in Regex objects?\n",
    "###### Ans:\n",
    "Raw string notation keeps regular expression and confusion free. So that backslashes do not have to be escaped."
   ]
  },
  {
   "cell_type": "markdown",
   "id": "0e3058ef",
   "metadata": {},
   "source": [
    "#### Q3. What is the return value of the search() method?\n",
    "###### Ans: \n",
    "The return value of the search() method is 'Match objects'."
   ]
  },
  {
   "cell_type": "markdown",
   "id": "81e10835",
   "metadata": {},
   "source": [
    "#### Q4. From a Match item, how do you get the actual strings that match the pattern?\n",
    "###### Ans:\n",
    "The group() method will returns matched text from the match item."
   ]
  },
  {
   "cell_type": "markdown",
   "id": "5fbe4068",
   "metadata": {},
   "source": [
    "#### Q5. In the regex which created from the r'(\\d\\d\\d)-(\\d\\d\\d-\\d\\d\\d\\d)', what does group zero cover? Group 2? Group 1?\n",
    "###### Ans:\n",
    "- group 0 is the entire match(\\d\\d\\d)-(\\d\\d\\d-\\d\\d\\d\\d)\n",
    "- group 1 covers the first set of parentheses (\\d\\d\\d)\n",
    "- group 2 covers the second set of parentheses (\\d\\d\\d-\\d\\d\\d\\d)"
   ]
  },
  {
   "cell_type": "markdown",
   "id": "c1518434",
   "metadata": {},
   "source": [
    "#### Q6. In standard expression syntax, parentheses and intervals have distinct meanings. How can you tell a regex that you want     it to fit real parentheses and periods?\n",
    "###### Ans:"
   ]
  },
  {
   "cell_type": "code",
   "execution_count": null,
   "id": "a288e34d",
   "metadata": {},
   "outputs": [],
   "source": [
    " \\., \\(, \\)"
   ]
  },
  {
   "cell_type": "markdown",
   "id": "2f02fd75",
   "metadata": {},
   "source": [
    "#### Q7. The findall() method returns a string of list or a list of string tuples. What causes it to return one of the two options?\n",
    "###### Ans:\n",
    "If the regex has no groups, a  string of lists is returned. If the regex has groups, a list of of strings tuples is          returned."
   ]
  },
  {
   "cell_type": "markdown",
   "id": "051512d9",
   "metadata": {},
   "source": [
    "#### Q8. In standard expressions, what does the | character mean?\n",
    "###### Ans:\n",
    "The | character signifies matching \"either, or\" between two groups."
   ]
  },
  {
   "cell_type": "markdown",
   "id": "b0fda6f1",
   "metadata": {},
   "source": [
    "#### Q9. In regular expressions, what does the character stand for?\n",
    "###### Ans:\n",
    "A word character is a letter, a number, or an underscore. This set of characters may also be represented by the regex character set [a-zA-Z0-9_]         \n",
    "\n"
   ]
  },
  {
   "cell_type": "markdown",
   "id": "b70962e7",
   "metadata": {},
   "source": [
    "#### Q10.In regular expressions, what is the difference between the + and * characters?\n",
    "###### Ans: \n",
    "The + matches one or more. The * matches zero or more."
   ]
  },
  {
   "cell_type": "markdown",
   "id": "563fdcc6",
   "metadata": {},
   "source": [
    "#### Q11. What is the difference between {4} and {4,5} in regular expression?\n",
    "###### Ans: \n",
    "The {4} matches exactly four instances of the preceding group. The {4,5} matches between four and five instances."
   ]
  },
  {
   "cell_type": "markdown",
   "id": "29ce8010",
   "metadata": {},
   "source": [
    "#### Q12. What do you mean by the \\d, \\w, and \\s shorthand character classes signify in regular expressions?\n",
    "###### Ans: \n",
    "The \\d, \\w, and \\s shorthand character classes match a single digit, word, or space character, respectively."
   ]
  },
  {
   "cell_type": "markdown",
   "id": "ed5e23b0",
   "metadata": {},
   "source": [
    "#### Q14. What is the difference between .*? and .*?\n",
    "###### Ans: \n",
    "- '.' accepts as many sequence as available(Greedy approach)\n",
    "- '.?' accepts the first matched sequence and then stops(Non-Greedy approach)."
   ]
  },
  {
   "cell_type": "markdown",
   "id": "18b143d8",
   "metadata": {},
   "source": [
    "#### Q15. What is the syntax for matching both numbers and lowercase letters with a character class?\n",
    "###### Ans: \n",
    "Either [0-9a-z] or [a-z0-9]"
   ]
  },
  {
   "cell_type": "markdown",
   "id": "dfa6a83e",
   "metadata": {},
   "source": [
    "#### Q16. What is the procedure for making a normal expression in regax case insensitive?\n",
    "###### Ans:  \n",
    "Passing re.I or re.IGNORECASE as the second argument to re.compile() will make the matching case insensitive."
   ]
  },
  {
   "cell_type": "markdown",
   "id": "e9df04c5",
   "metadata": {},
   "source": [
    "#### Q17. What does the . character normally match? What does it match if re.DOTALL is passed as 2nd argument in re.compile()?\n",
    "###### Ans:  \n",
    "' . '  character normally matches any character except the newline character. If re.DOTALL is passed as the second          argument to re.compile(), then the dot will also match newline characters."
   ]
  },
  {
   "cell_type": "markdown",
   "id": "4e031409",
   "metadata": {},
   "source": [
    "#### Q18. If numReg = re.compile(r'\\d+'), what will numRegex.sub('X', '11 drummers, 10 pipers, five rings, 4 hen') return?\n",
    "###### Ans: \n",
    "'X drummers, X pipers, five rings, X hens'"
   ]
  },
  {
   "cell_type": "markdown",
   "id": "981a7f5d",
   "metadata": {},
   "source": [
    "#### Q19. What does passing re.VERBOSE as the 2nd argument to re.compile() allow to do?\n",
    "###### Ans: \n",
    "The re.VERBOSE argument allows you to add whitespace and comments to the string passed to re.compile().\n"
   ]
  },
  {
   "cell_type": "markdown",
   "id": "c6cfd699",
   "metadata": {},
   "source": [
    "#### Q20. How would you write a regex that match a number with comma for every three digits? It must match the given following:\n",
    "     '42'\n",
    "     '1,234'\n",
    "     '6,368,745'\n",
    "     but not the following:\n",
    "     '12,34,567' (which has only two digits between the commas)\n",
    "     '1234' (which lacks commas)\n",
    "     \n",
    "###### Ans: \n",
    "re.compile(r'^\\d{1,3}(,\\d{3})*$') will create this regex, but other regex strings can produce a similar regular            expression."
   ]
  },
  {
   "cell_type": "markdown",
   "id": "19f8b208",
   "metadata": {},
   "source": [
    "#### Q21. How would you write a regex that matches the full name of someone whose last name is Watanabe? You can assume that the      first name that comes before it will always be one word that begins with a capital letter. The regex must match the        following:\n",
    "     'Haruto Watanabe'\n",
    "     'Alice Watanabe'\n",
    "     'RoboCop Watanabe'\n",
    "     but not the following:\n",
    "     'haruto Watanabe' (where the first name is not capitalized)\n",
    "     'Mr. Watanabe' (where the preceding word has a nonletter character)\n",
    "     'Watanabe' (which has no first name)\n",
    "     'Haruto watanabe' (where Watanabe is not capitalized)\n",
    "     \n",
    "###### Ans: \n",
    "re.compile(r'[A-Z][a-z]*\\sWatanabe')\n"
   ]
  },
  {
   "cell_type": "markdown",
   "id": "792d854c",
   "metadata": {},
   "source": [
    "#### Q21. How would you write a regex that matches a sentence where the first word is either Alice, Bob, or Carol; the second        word is either eats, pets, or throws; the third word is apples, cats, or baseballs; and the sentence ends with a            period? This regex should be case-insensitive. It must match the following:\n",
    "    'Alice eats apples.'\n",
    "    'Bob pets cats.'\n",
    "    'Carol throws baseballs.'\n",
    "    'Alice throws Apples.'\n",
    "    'BOB EATS CATS.'\n",
    "    but not the following:\n",
    "    'RoboCop eats apples.'\n",
    "    'ALICE THROWS FOOTBALLS.'\n",
    "    'Carol eats 7 cats.'\n",
    "    \n",
    "Ans- re.compile(r'(Alice|Bob|Carol)\\s(eats|pets|throws)\\s(apples|cats|baseballs)\\.', re.IGNORECASE) \n"
   ]
  },
  {
   "cell_type": "markdown",
   "id": "bb683b8f",
   "metadata": {},
   "source": [
    "#### "
   ]
  },
  {
   "cell_type": "raw",
   "id": "6e07369f",
   "metadata": {},
   "source": []
  }
 ],
 "metadata": {
  "kernelspec": {
   "display_name": "Python 3 (ipykernel)",
   "language": "python",
   "name": "python3"
  },
  "language_info": {
   "codemirror_mode": {
    "name": "ipython",
    "version": 3
   },
   "file_extension": ".py",
   "mimetype": "text/x-python",
   "name": "python",
   "nbconvert_exporter": "python",
   "pygments_lexer": "ipython3",
   "version": "3.9.7"
  }
 },
 "nbformat": 4,
 "nbformat_minor": 5
}
