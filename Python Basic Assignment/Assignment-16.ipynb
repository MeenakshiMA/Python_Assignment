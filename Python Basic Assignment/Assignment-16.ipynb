{
 "cells": [
  {
   "cell_type": "markdown",
   "id": "3be43e41",
   "metadata": {},
   "source": [
    "# Assignment-16"
   ]
  },
  {
   "cell_type": "markdown",
   "id": "2ab3f1fc",
   "metadata": {},
   "source": [
    "#### Q1. Create a list called years_list, starting with the year of your birth, and each year thereafter until the year of your fifth birthday. For example, if you were born in 1980. the list would be years_list = [1980, 1981, 1982, 1983, 1984, 1985].\n",
    "Ans:    \n"
   ]
  },
  {
   "cell_type": "code",
   "execution_count": 23,
   "id": "b4c493d1",
   "metadata": {},
   "outputs": [
    {
     "data": {
      "text/plain": [
       "[1997, 1998, 1999, 2000, 2001, 2002]"
      ]
     },
     "execution_count": 23,
     "metadata": {},
     "output_type": "execute_result"
    }
   ],
   "source": [
    "years_list = [i for i in range(1997,1997+6)]\n",
    "years_list"
   ]
  },
  {
   "cell_type": "markdown",
   "id": "ffeb2a45",
   "metadata": {},
   "source": [
    "#### Q2. In which year in years_list was your third birthday? Remember, you were 0 years of age for your first year.\n",
    "Ans:   "
   ]
  },
  {
   "cell_type": "code",
   "execution_count": 2,
   "id": "719d2c8b",
   "metadata": {},
   "outputs": [
    {
     "data": {
      "text/plain": [
       "2000"
      ]
     },
     "execution_count": 2,
     "metadata": {},
     "output_type": "execute_result"
    }
   ],
   "source": [
    "years_list[3]"
   ]
  },
  {
   "cell_type": "markdown",
   "id": "a2237a26",
   "metadata": {},
   "source": [
    "#### Q3.In the years list, which year were you the oldest?\n",
    "Ans:   "
   ]
  },
  {
   "cell_type": "code",
   "execution_count": 24,
   "id": "c40008db",
   "metadata": {},
   "outputs": [
    {
     "data": {
      "text/plain": [
       "2002"
      ]
     },
     "execution_count": 24,
     "metadata": {},
     "output_type": "execute_result"
    }
   ],
   "source": [
    "max(years_list)"
   ]
  },
  {
   "cell_type": "markdown",
   "id": "ab3d82b6",
   "metadata": {},
   "source": [
    "#### Q4. Make a list called things with these three strings as elements: \"mozzarella\", \"cinderella\", \"salmonella\".\n",
    "Ans:  \n"
   ]
  },
  {
   "cell_type": "code",
   "execution_count": 6,
   "id": "8e01d7b5",
   "metadata": {},
   "outputs": [
    {
     "data": {
      "text/plain": [
       "['mozzarella', 'cinderella', 'salmonella']"
      ]
     },
     "execution_count": 6,
     "metadata": {},
     "output_type": "execute_result"
    }
   ],
   "source": [
    "things = [ \"mozzarella\", \"cinderella\", \"salmonella\"]\n",
    "things"
   ]
  },
  {
   "cell_type": "markdown",
   "id": "f7c1bdac",
   "metadata": {},
   "source": [
    "#### Q5. Capitalize the element in things that refers to a person and then print the list. Did it change the element in the list?\n",
    "Ans:   "
   ]
  },
  {
   "cell_type": "code",
   "execution_count": 25,
   "id": "5cda3174",
   "metadata": {},
   "outputs": [
    {
     "name": "stdout",
     "output_type": "stream",
     "text": [
      "Mozzarella\n",
      "Cinderella\n",
      "Salmonella\n"
     ]
    },
    {
     "data": {
      "text/plain": [
       "['mozzarella', 'cinderella', 'salmonella']"
      ]
     },
     "execution_count": 25,
     "metadata": {},
     "output_type": "execute_result"
    }
   ],
   "source": [
    "for i in things:\n",
    "    print(i.capitalize())\n",
    "things\n",
    "#Capitalize() will not update the list original values."
   ]
  },
  {
   "cell_type": "markdown",
   "id": "444c910a",
   "metadata": {},
   "source": [
    "#### Q6. Make a surprise list with the elements \"Groucho,\" \"Chico,\" and \"Harpo.\"\n",
    "Ans:    "
   ]
  },
  {
   "cell_type": "code",
   "execution_count": 18,
   "id": "cb67004c",
   "metadata": {},
   "outputs": [
    {
     "data": {
      "text/plain": [
       "['Groucho', 'Chico', 'Harpo']"
      ]
     },
     "execution_count": 18,
     "metadata": {},
     "output_type": "execute_result"
    }
   ],
   "source": [
    "surprise = [ \"Groucho\", \"Chico\",\"Harpo\"]\n",
    "surprise"
   ]
  },
  {
   "cell_type": "markdown",
   "id": "f7b788a0",
   "metadata": {},
   "source": [
    "#### Q7. Lowercase the last element of the surprise list, reverse it, and then capitalize it.\n",
    "Ans:"
   ]
  },
  {
   "cell_type": "code",
   "execution_count": 27,
   "id": "aea92d79",
   "metadata": {},
   "outputs": [
    {
     "data": {
      "text/plain": [
       "'harpo'"
      ]
     },
     "execution_count": 27,
     "metadata": {},
     "output_type": "execute_result"
    }
   ],
   "source": [
    "surprise[-1].lower()\n"
   ]
  },
  {
   "cell_type": "code",
   "execution_count": 28,
   "id": "bca1fbef",
   "metadata": {},
   "outputs": [
    {
     "data": {
      "text/plain": [
       "'opraH'"
      ]
     },
     "execution_count": 28,
     "metadata": {},
     "output_type": "execute_result"
    }
   ],
   "source": [
    "surprise[-1][::-1]"
   ]
  },
  {
   "cell_type": "code",
   "execution_count": 30,
   "id": "e87582fa",
   "metadata": {},
   "outputs": [
    {
     "data": {
      "text/plain": [
       "'OPRAH'"
      ]
     },
     "execution_count": 30,
     "metadata": {},
     "output_type": "execute_result"
    }
   ],
   "source": [
    "surprise[-1][::-1].upper()"
   ]
  },
  {
   "cell_type": "markdown",
   "id": "d904cdae",
   "metadata": {},
   "source": [
    "#### Q8. Make an English-to-French dictionary called e2f and print it. Here are your starter words: dog is chien, cat is chat, and walrus is morse.\n",
    "Ans:   \n"
   ]
  },
  {
   "cell_type": "code",
   "execution_count": 31,
   "id": "12726f79",
   "metadata": {},
   "outputs": [
    {
     "data": {
      "text/plain": [
       "{'dog': 'chien', 'cat': 'chat', 'walrus': 'morse'}"
      ]
     },
     "execution_count": 31,
     "metadata": {},
     "output_type": "execute_result"
    }
   ],
   "source": [
    "e2f = {'dog':'chien' , 'cat':'chat', 'walrus':'morse'}\n",
    "e2f"
   ]
  },
  {
   "cell_type": "markdown",
   "id": "505f5b4b",
   "metadata": {},
   "source": [
    "#### Q9. Write the French word for walrus in your three-word dictionary e2f.\n",
    "Ans:"
   ]
  },
  {
   "cell_type": "code",
   "execution_count": 32,
   "id": "707de007",
   "metadata": {},
   "outputs": [
    {
     "data": {
      "text/plain": [
       "'morse'"
      ]
     },
     "execution_count": 32,
     "metadata": {},
     "output_type": "execute_result"
    }
   ],
   "source": [
    "e2f['walrus']"
   ]
  },
  {
   "cell_type": "markdown",
   "id": "0a744b49",
   "metadata": {},
   "source": [
    "#### Q10. Make a French-to-English dictionary called f2e from e2f. Use the items method.\n",
    "Ans:   "
   ]
  },
  {
   "cell_type": "code",
   "execution_count": 36,
   "id": "59af42da",
   "metadata": {},
   "outputs": [
    {
     "name": "stdout",
     "output_type": "stream",
     "text": [
      "{'chien': 'dog', 'chat': 'cat', 'morse': 'walrus'}\n"
     ]
    }
   ],
   "source": [
    "f2e = {v:k for (k,v) in e2f.items()}\n",
    "print(f2e)"
   ]
  },
  {
   "cell_type": "markdown",
   "id": "3a254bf1",
   "metadata": {},
   "source": [
    "#### Q11. Print the English version of the French word chien using f2e.\n",
    "Ans:"
   ]
  },
  {
   "cell_type": "code",
   "execution_count": 37,
   "id": "4667c534",
   "metadata": {},
   "outputs": [
    {
     "data": {
      "text/plain": [
       "'dog'"
      ]
     },
     "execution_count": 37,
     "metadata": {},
     "output_type": "execute_result"
    }
   ],
   "source": [
    "f2e['chien']"
   ]
  },
  {
   "cell_type": "markdown",
   "id": "644343f7",
   "metadata": {},
   "source": [
    "#### Q12. Make and print a set of English words from the keys in e2f.\n",
    "Ans:"
   ]
  },
  {
   "cell_type": "code",
   "execution_count": 38,
   "id": "64f52ad5",
   "metadata": {},
   "outputs": [
    {
     "data": {
      "text/plain": [
       "dict_keys(['dog', 'cat', 'walrus'])"
      ]
     },
     "execution_count": 38,
     "metadata": {},
     "output_type": "execute_result"
    }
   ],
   "source": [
    "e2f.keys()"
   ]
  },
  {
   "cell_type": "markdown",
   "id": "393760ee",
   "metadata": {},
   "source": [
    "#### Q13. Make a multilevel dictionary called life. Use these strings for the topmost keys: 'animals', 'plants', and 'other'. Make the 'animals' key refer to another dictionary with the keys 'cats', 'octopi', and 'emus'. Make the 'cats' key refer to a list of strings with the values 'Henri', 'Grumpy', and 'Lucy'. Make all the other keys refer to empty dictionaries."
   ]
  },
  {
   "cell_type": "code",
   "execution_count": 46,
   "id": "646600de",
   "metadata": {},
   "outputs": [
    {
     "data": {
      "text/plain": [
       "{'animals': {'cats': ['Henri', 'Grumpy', 'Lucy'], 'octopi': '', 'emus': ''},\n",
       " 'plants': {},\n",
       " 'other': {}}"
      ]
     },
     "execution_count": 46,
     "metadata": {},
     "output_type": "execute_result"
    }
   ],
   "source": [
    "life = {'animals':\n",
    "        {'cats':['Henri','Grumpy','Lucy'],  'octopi':'', 'emus':''},\n",
    "        'plants':{},\n",
    "        'other':{}\n",
    "}\n",
    "life"
   ]
  },
  {
   "cell_type": "markdown",
   "id": "a52c532d",
   "metadata": {},
   "source": [
    "#### Q14. Print the top-level keys of life.\n",
    "Ans:"
   ]
  },
  {
   "cell_type": "code",
   "execution_count": 47,
   "id": "ecf0bb8c",
   "metadata": {},
   "outputs": [
    {
     "data": {
      "text/plain": [
       "dict_keys(['animals', 'plants', 'other'])"
      ]
     },
     "execution_count": 47,
     "metadata": {},
     "output_type": "execute_result"
    }
   ],
   "source": [
    "life.keys()"
   ]
  },
  {
   "cell_type": "markdown",
   "id": "797fb8d5",
   "metadata": {},
   "source": [
    "#### Q15. Print the keys for life['animals'].\n",
    "Ans:"
   ]
  },
  {
   "cell_type": "code",
   "execution_count": 48,
   "id": "aeab0438",
   "metadata": {},
   "outputs": [
    {
     "data": {
      "text/plain": [
       "dict_keys(['cats', 'octopi', 'emus'])"
      ]
     },
     "execution_count": 48,
     "metadata": {},
     "output_type": "execute_result"
    }
   ],
   "source": [
    "life['animals'].keys()"
   ]
  },
  {
   "cell_type": "markdown",
   "id": "a70826ac",
   "metadata": {},
   "source": [
    "#### Q16. Print the values for life['animals']['cats']\n",
    "Ans:"
   ]
  },
  {
   "cell_type": "code",
   "execution_count": 49,
   "id": "c13ba892",
   "metadata": {},
   "outputs": [
    {
     "data": {
      "text/plain": [
       "['Henri', 'Grumpy', 'Lucy']"
      ]
     },
     "execution_count": 49,
     "metadata": {},
     "output_type": "execute_result"
    }
   ],
   "source": [
    "life['animals']['cats']"
   ]
  },
  {
   "cell_type": "code",
   "execution_count": null,
   "id": "124211c2",
   "metadata": {},
   "outputs": [],
   "source": []
  }
 ],
 "metadata": {
  "kernelspec": {
   "display_name": "Python 3 (ipykernel)",
   "language": "python",
   "name": "python3"
  },
  "language_info": {
   "codemirror_mode": {
    "name": "ipython",
    "version": 3
   },
   "file_extension": ".py",
   "mimetype": "text/x-python",
   "name": "python",
   "nbconvert_exporter": "python",
   "pygments_lexer": "ipython3",
   "version": "3.9.7"
  }
 },
 "nbformat": 4,
 "nbformat_minor": 5
}
