{
 "cells": [
  {
   "cell_type": "markdown",
   "id": "0118f491",
   "metadata": {},
   "source": [
    "# Assignment-13"
   ]
  },
  {
   "cell_type": "markdown",
   "id": "7ddd9831",
   "metadata": {},
   "source": [
    "#### Q1. What advantages do Excel spreadsheets have over CSV spreadsheets?\n",
    "Ans:    \n",
    "Reading large dataset is much easier in excel compared to csv, Excel provides the option for linking the data from external sources but no such feature available in csv."
   ]
  },
  {
   "cell_type": "markdown",
   "id": "29193be8",
   "metadata": {},
   "source": [
    "#### Q2.What do you pass to csv.reader() and csv.writer() to create reader and writer objects?\n",
    "Ans:    \n",
    "File object"
   ]
  },
  {
   "cell_type": "markdown",
   "id": "2ee7565f",
   "metadata": {},
   "source": [
    "#### Q3. What modes do File objects for reader and writer objects need to be opened in?\n",
    "Ans:   \n",
    "'r'(read mode) for reader objects and 'w'(write mode) for writer objects"
   ]
  },
  {
   "cell_type": "markdown",
   "id": "098e9457",
   "metadata": {},
   "source": [
    "#### Q4. What method takes a list argument and writes it to a CSV file?\n",
    "Ans:   \n",
    "writerow() method of csv.writer()"
   ]
  },
  {
   "cell_type": "markdown",
   "id": "44ee1ebe",
   "metadata": {},
   "source": [
    "#### Q5. What do the keyword arguments delimiter and line terminator do?\n",
    "Ans:    "
   ]
  }
 ],
 "metadata": {
  "kernelspec": {
   "display_name": "Python 3 (ipykernel)",
   "language": "python",
   "name": "python3"
  },
  "language_info": {
   "codemirror_mode": {
    "name": "ipython",
    "version": 3
   },
   "file_extension": ".py",
   "mimetype": "text/x-python",
   "name": "python",
   "nbconvert_exporter": "python",
   "pygments_lexer": "ipython3",
   "version": "3.9.7"
  }
 },
 "nbformat": 4,
 "nbformat_minor": 5
}
