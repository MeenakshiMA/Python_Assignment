{
 "cells": [
  {
   "cell_type": "markdown",
   "id": "0d1428c0",
   "metadata": {},
   "source": [
    "# Assgnment-2"
   ]
  },
  {
   "cell_type": "raw",
   "id": "d1bc3be2",
   "metadata": {},
   "source": [
    "Q1. What are the two values of the Boolean data type? How do you write them?\n",
    "Ans- Boolean type is one of the built-in data types which represents \"True and False\". \n",
    "     True and False, using capital T and F, with the rest of the word in lowercase.\n",
    "     \n",
    "     *True value is 1 and false value is 0.\n",
    "     "
   ]
  },
  {
   "cell_type": "raw",
   "id": "c4199e7f",
   "metadata": {},
   "source": [
    "Q2. What are the three different types of Boolean operators?\n",
    "Ans- Boolean operators are: AND, OR, and NOT.\n"
   ]
  },
  {
   "cell_type": "raw",
   "id": "1cecf478",
   "metadata": {},
   "source": [
    "Q3. Make a list of each Boolean operator's truth tables (i.e. every possible combination of           Boolean values for the operator and what it evaluate).\n",
    "Ans-  A         B           A and B         A or B         Not A         \n",
    "     False     False         False           False         True      \n",
    "     False     True          False           True          True\n",
    "     True      False         False           True          False\n",
    "     True      True          True            True          False\n",
    "     "
   ]
  },
  {
   "cell_type": "raw",
   "id": "dcd4ea30",
   "metadata": {},
   "source": [
    "Q4. What are the values of the following expressions?\n",
    "   (a) (5 > 4) and (3 == 5).\n",
    "   (b) not (5 > 4)\n",
    "   (c) (5 > 4) or (3 == 5)\n",
    "   (d) not ((5 > 4) or (3 == 5))\n",
    "   (e) (True and True) and (True == False)\n",
    "   (f) (not False) or (not True)\n",
    " \n",
    "Ans- (a).False, (b).False, (c).True, (d).False, (e).False, (f).True.\n"
   ]
  },
  {
   "cell_type": "code",
   "execution_count": 14,
   "id": "cb145d26",
   "metadata": {},
   "outputs": [
    {
     "data": {
      "text/plain": [
       "False"
      ]
     },
     "execution_count": 14,
     "metadata": {},
     "output_type": "execute_result"
    }
   ],
   "source": [
    "(5 > 4) and (3 == 5)"
   ]
  },
  {
   "cell_type": "code",
   "execution_count": 15,
   "id": "47dd0b6d",
   "metadata": {},
   "outputs": [
    {
     "data": {
      "text/plain": [
       "False"
      ]
     },
     "execution_count": 15,
     "metadata": {},
     "output_type": "execute_result"
    }
   ],
   "source": [
    "not (5 > 4)"
   ]
  },
  {
   "cell_type": "code",
   "execution_count": 16,
   "id": "5a187ace",
   "metadata": {},
   "outputs": [
    {
     "data": {
      "text/plain": [
       "True"
      ]
     },
     "execution_count": 16,
     "metadata": {},
     "output_type": "execute_result"
    }
   ],
   "source": [
    "(5 > 4) or (3 == 5)"
   ]
  },
  {
   "cell_type": "code",
   "execution_count": 17,
   "id": "1593de60",
   "metadata": {},
   "outputs": [
    {
     "data": {
      "text/plain": [
       "False"
      ]
     },
     "execution_count": 17,
     "metadata": {},
     "output_type": "execute_result"
    }
   ],
   "source": [
    "not ((5 > 4) or (3 == 5))"
   ]
  },
  {
   "cell_type": "code",
   "execution_count": 18,
   "id": "7478d82f",
   "metadata": {},
   "outputs": [
    {
     "data": {
      "text/plain": [
       "False"
      ]
     },
     "execution_count": 18,
     "metadata": {},
     "output_type": "execute_result"
    }
   ],
   "source": [
    "(True and True) and (True == False)"
   ]
  },
  {
   "cell_type": "code",
   "execution_count": 19,
   "id": "0406a571",
   "metadata": {},
   "outputs": [
    {
     "data": {
      "text/plain": [
       "True"
      ]
     },
     "execution_count": 19,
     "metadata": {},
     "output_type": "execute_result"
    }
   ],
   "source": [
    "(not False) or (not True)"
   ]
  },
  {
   "cell_type": "raw",
   "id": "95eb44b5",
   "metadata": {},
   "source": [
    "Q5. What are the six comparison operators?\n",
    "\n",
    "Ans- A comparison operator compares two values and returns a boolean value, either True or False.      There are six comparison operators: \n",
    "     less than ( < ), \n",
    "     less than or equal to ( <= ), \n",
    "     greater than ( > ), \n",
    "     greater than or equal to ( >= ), \n",
    "     equal to ( == ), and\n",
    "     not equal to ( != ).\n",
    "     "
   ]
  },
  {
   "cell_type": "raw",
   "id": "40a2ff78",
   "metadata": {},
   "source": [
    "Q6. How do you tell the difference between the equal to and assignment operators?\n",
    "    Describe a condition and when you would use one.\n",
    "\n",
    "Ans- '='Assignment operator:- The “=” is an assignment operator is used to assign the value on the right to the variable on                               the left.\n",
    "                             * Constant term cannot be placed on left hand side.\n",
    "                               Ex:s=1\n",
    "                             \n",
    "     '=='Equal to operator:- The '==' operator checks whether the two given operands are equal or not.  If so, it returns                                true. Otherwise it returns false.\n",
    "                             * Constant term can be placed in the left hand side\n",
    "                               Ex:1==1, True.\n"
   ]
  },
  {
   "cell_type": "code",
   "execution_count": 20,
   "id": "786ba861",
   "metadata": {},
   "outputs": [
    {
     "name": "stdout",
     "output_type": "stream",
     "text": [
      "ham\n",
      "spam\n",
      "spam\n"
     ]
    }
   ],
   "source": [
    "##Q7. Identify the three blocks in this code:\n",
    "spam = 0\n",
    "if spam == 10:\n",
    "    print('eggs')\n",
    "if spam > 5:\n",
    "    print('bacon')\n",
    "else:\n",
    "    print('ham')\n",
    "    print('spam')\n",
    "    print('spam')\n",
    "\n",
    "## Ans:- three blocks: 1.if spam==10, 2.if spam>5,3.else"
   ]
  },
  {
   "cell_type": "code",
   "execution_count": 23,
   "id": "238b6fe0",
   "metadata": {},
   "outputs": [
    {
     "name": "stdout",
     "output_type": "stream",
     "text": [
      "Input value of spam\n",
      "23\n",
      "Greetings!\n"
     ]
    }
   ],
   "source": [
    "##Q8. Write code that prints Hello if 1 is stored in spam, prints Howdy if 2 is stored in spam, and prints Greetings! if anything else is stored in spam.\n",
    "##Ans:\n",
    "print(\"Input value of spam\")\n",
    "spam = int(input())\n",
    "\n",
    "if spam == 1:\n",
    "    print('Hello')\n",
    "elif spam == 2:\n",
    "    print('Howdy')\n",
    "else:\n",
    "    print('Greetings!')\n"
   ]
  },
  {
   "cell_type": "raw",
   "id": "e99bc4a1",
   "metadata": {},
   "source": [
    "Q9. If your program is stuck in an endless loop, what keys you’ll press?\n",
    "Ans- Press Ctrl+C"
   ]
  },
  {
   "cell_type": "raw",
   "id": "6a11a53b",
   "metadata": {},
   "source": [
    "Q10. How can you tell the difference between break and continue?\n",
    "Ans- Break: Break leaves the loop completely and executes the statements after the loop.\n",
    "            Break completely exits the loop. \n",
    "\n",
    "     Continue: Continue leaves the current iteration and executes with the next value in the loop.\n",
    "               Continue skips the statements after the continue statement and keeps looping.\n",
    "\n",
    "              "
   ]
  },
  {
   "cell_type": "raw",
   "id": "bec51787",
   "metadata": {},
   "source": [
    "Q11. In a for loop, what is the difference between range(10), range(0, 10), and range(0, 10, 1)?\n",
    "Ans- All doing same thing, The range(10) call ranges from 0 up to 10 (but not including), \n",
    "     range(0,10) explicitly tells the loop to start at 0 , and \n",
    "     range (0,10,1) explicitly tells the loop to increase the variable by 1 on each iteration.\n",
    "     \n",
    "     range(10)- It takes one argument, represents range(end). (0,1,2,3,4,5,6,7,8,9)\n",
    "     range(0,10)- It takes two arguments, represents range(start,end). (0,1,2,3,4,5,6,7,8,9)\n",
    "     range(0,10,1)- It takes three arguments, represents range(start,end,step). (0,1,2,3,4,5,6,7,8,9)                                                                                                                                         "
   ]
  },
  {
   "cell_type": "code",
   "execution_count": 24,
   "id": "311c5a11",
   "metadata": {},
   "outputs": [
    {
     "name": "stdout",
     "output_type": "stream",
     "text": [
      "1\n",
      "2\n",
      "3\n",
      "4\n",
      "5\n",
      "6\n",
      "7\n",
      "8\n",
      "9\n",
      "10\n"
     ]
    }
   ],
   "source": [
    "##12. Write a short program that prints the numbers 1 to 10 using a for loop. Then write an equivalent program that prints the numbers 1 to 10 using a while loop.\n",
    "##Ans- using for loop\n",
    "for i in range(1,11):\n",
    "    print(i)"
   ]
  },
  {
   "cell_type": "code",
   "execution_count": 25,
   "id": "5613a77c",
   "metadata": {},
   "outputs": [
    {
     "name": "stdout",
     "output_type": "stream",
     "text": [
      "1\n",
      "2\n",
      "3\n",
      "4\n",
      "5\n",
      "6\n",
      "7\n",
      "8\n",
      "9\n",
      "10\n"
     ]
    }
   ],
   "source": [
    "## using while loop\n",
    "i = 1\n",
    "while (i<=10):\n",
    "     print(i)\n",
    "     i += 1   "
   ]
  },
  {
   "cell_type": "raw",
   "id": "b99db170",
   "metadata": {},
   "source": [
    "Q13. If you had a function named bacon() inside a module named spam, how would you call it after importing spam?\n",
    "Ans : spam.bacon()"
   ]
  },
  {
   "cell_type": "code",
   "execution_count": null,
   "id": "b8b107ff",
   "metadata": {},
   "outputs": [],
   "source": []
  },
  {
   "cell_type": "code",
   "execution_count": null,
   "id": "351db04d",
   "metadata": {},
   "outputs": [],
   "source": []
  }
 ],
 "metadata": {
  "kernelspec": {
   "display_name": "Python 3",
   "language": "python",
   "name": "python3"
  },
  "language_info": {
   "codemirror_mode": {
    "name": "ipython",
    "version": 3
   },
   "file_extension": ".py",
   "mimetype": "text/x-python",
   "name": "python",
   "nbconvert_exporter": "python",
   "pygments_lexer": "ipython3",
   "version": "3.8.8"
  }
 },
 "nbformat": 4,
 "nbformat_minor": 5
}
