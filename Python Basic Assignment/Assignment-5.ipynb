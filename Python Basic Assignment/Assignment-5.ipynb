{
 "cells": [
  {
   "cell_type": "raw",
   "id": "f78b3c7f",
   "metadata": {},
   "source": [
    "Q1. What does an empty dictionary's code look like?\n",
    "Ans- Empty dictionary code look like, Two curly brackets: {}\n"
   ]
  },
  {
   "cell_type": "raw",
   "id": "d6a30e7e",
   "metadata": {},
   "source": [
    "2. What is the value of a dictionary value with the key 'foo' and the value 42?\n",
    "Ans- {'foo' : 42 }"
   ]
  },
  {
   "cell_type": "raw",
   "id": "8f66cf05",
   "metadata": {},
   "source": [
    "3. What is the most significant distinction between a dictionary and a list?\n",
    "Ans- Dictionary : \n",
    "    * The items stored in a dictionary are unordered.\n",
    "    * The elements are accessed via key-values.\n",
    "    * The keys of dictionary can be of any data type.\n",
    "    \n",
    "    List :\n",
    "    * The items in a list are ordered.\n",
    "    * The elements are accessed via indices.\n",
    "    * The indices of list are integers starting from 0."
   ]
  },
  {
   "cell_type": "code",
   "execution_count": 1,
   "id": "67e5025f",
   "metadata": {},
   "outputs": [
    {
     "ename": "KeyError",
     "evalue": "'foo'",
     "output_type": "error",
     "traceback": [
      "\u001b[1;31m---------------------------------------------------------------------------\u001b[0m",
      "\u001b[1;31mKeyError\u001b[0m                                  Traceback (most recent call last)",
      "\u001b[1;32m~\\AppData\\Local\\Temp/ipykernel_5100/2915983956.py\u001b[0m in \u001b[0;36m<module>\u001b[1;34m\u001b[0m\n\u001b[0;32m      4\u001b[0m \u001b[1;33m\u001b[0m\u001b[0m\n\u001b[0;32m      5\u001b[0m \u001b[0mspam\u001b[0m \u001b[1;33m=\u001b[0m \u001b[1;33m{\u001b[0m\u001b[1;34m'bar'\u001b[0m \u001b[1;33m:\u001b[0m \u001b[1;36m100\u001b[0m\u001b[1;33m}\u001b[0m\u001b[1;33m\u001b[0m\u001b[1;33m\u001b[0m\u001b[0m\n\u001b[1;32m----> 6\u001b[1;33m \u001b[0mspam\u001b[0m\u001b[1;33m[\u001b[0m\u001b[1;34m'foo'\u001b[0m\u001b[1;33m]\u001b[0m\u001b[1;33m\u001b[0m\u001b[1;33m\u001b[0m\u001b[0m\n\u001b[0m",
      "\u001b[1;31mKeyError\u001b[0m: 'foo'"
     ]
    }
   ],
   "source": [
    "\"\"\"4. What happens if you try to access spam['foo'] if spam is {'bar': 100}?\n",
    "\n",
    "Ans- If we access spam['foo'] it will get 'KeyError' error. becouse the foo is not defined so code is failed. \"\"\"\n",
    "\n",
    "spam = {'bar' : 100}\n",
    "spam['foo']"
   ]
  },
  {
   "cell_type": "raw",
   "id": "c4be6c9a",
   "metadata": {},
   "source": [
    "5. If a dictionary is stored in spam, what is the difference between the expressions 'cat' in spam and 'cat' in spam.keys()?\n",
    "Ans- There is no difference cat in spam and cat in spam.keys, The operator checks whether a value exists as a key in the            dictionary. "
   ]
  },
  {
   "cell_type": "raw",
   "id": "8f623628",
   "metadata": {},
   "source": [
    "6. If a dictionary is stored in spam, what is the difference between the expressions 'cat' in spam and 'cat' in spam.values()?\n",
    "Ans- 'cat' in spam checks whether there is a 'cat' key in the dictionary, while 'cat' in spam.values() checks whether there is \n",
    "     a value 'cat' for one of the keys in spam."
   ]
  },
  {
   "cell_type": "raw",
   "id": "51ae0d15",
   "metadata": {},
   "source": [
    "7. What is a shortcut for the following code?\n",
    "if 'color' not in spam:\n",
    "spam['color'] = 'black'\n",
    "Ans- We can use 'setdefault() function like, spam.setdefault('color', 'black')\n"
   ]
  },
  {
   "cell_type": "raw",
   "id": "3e779692",
   "metadata": {},
   "source": [
    "8. How do you \"pretty print\" dictionary values using which module and function?\n",
    "    Ans- Use pprint() to Pretty Print a Dictionary in Python, Within the pprint module there is a function with the same name            pprint() like, pprint.pprint() \n",
    "     "
   ]
  },
  {
   "cell_type": "raw",
   "id": "c098413d",
   "metadata": {},
   "source": []
  },
  {
   "cell_type": "code",
   "execution_count": null,
   "id": "0258450c",
   "metadata": {},
   "outputs": [],
   "source": []
  },
  {
   "cell_type": "code",
   "execution_count": null,
   "id": "737a7257",
   "metadata": {},
   "outputs": [],
   "source": []
  }
 ],
 "metadata": {
  "kernelspec": {
   "display_name": "Python 3 (ipykernel)",
   "language": "python",
   "name": "python3"
  },
  "language_info": {
   "codemirror_mode": {
    "name": "ipython",
    "version": 3
   },
   "file_extension": ".py",
   "mimetype": "text/x-python",
   "name": "python",
   "nbconvert_exporter": "python",
   "pygments_lexer": "ipython3",
   "version": "3.9.7"
  }
 },
 "nbformat": 4,
 "nbformat_minor": 5
}
