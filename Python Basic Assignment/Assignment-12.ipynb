{
 "cells": [
  {
   "cell_type": "markdown",
   "id": "1b8b140e",
   "metadata": {},
   "source": [
    "# Assignment-12"
   ]
  },
  {
   "cell_type": "markdown",
   "id": "4ca6019c",
   "metadata": {},
   "source": [
    "#### Q1. In what modes should the PdfFileReader() and PdfFileWriter() File objects will be opened?\n",
    "Ans:    \n",
    "PdfFileReader() needs to be opened in read-binary mode by passing 'rb' .         \n",
    "PdfFileWriter() needs to be opened in write-binary mode with 'wb'."
   ]
  },
  {
   "cell_type": "markdown",
   "id": "e1402c15",
   "metadata": {},
   "source": [
    "#### Q2. From a PdfFileReader object, how do you get a Page object for page 5?\n",
    "Ans:    \n",
    "PdfFileReader.getPage(5)"
   ]
  },
  {
   "cell_type": "markdown",
   "id": "1eb28bf5",
   "metadata": {},
   "source": [
    "#### Q3. What PdfFileReader variable stores the number of pages in the PDF document?\n",
    "Ans:   \n",
    "numPages()"
   ]
  },
  {
   "cell_type": "markdown",
   "id": "878287a2",
   "metadata": {},
   "source": [
    "#### Q4. If a PdfFileReader object’s PDF is encrypted with the password swordfish, what must you do before you can obtain Page objects from it?\n",
    "Ans:   \n",
    "obj.decrypt(\"swordfish\")"
   ]
  },
  {
   "cell_type": "markdown",
   "id": "f13df4cc",
   "metadata": {},
   "source": [
    "#### Q5. What methods do you use to rotate a page?\n",
    "Ans:   \n",
    "rotateClockwise() and rotateCounterClockwise()"
   ]
  },
  {
   "cell_type": "markdown",
   "id": "bba197be",
   "metadata": {},
   "source": [
    "#### Q6. What is the difference between a Run object and a Paragraph object?\n",
    "Ans:   \n",
    "Paragraps object is needed to get paragraph from a document, and Run object is needed whenever text style changes in a paragraph"
   ]
  },
  {
   "cell_type": "markdown",
   "id": "9c74912e",
   "metadata": {},
   "source": [
    "#### Q7. How do you obtain a list of Paragraph objects for a Document object that’s stored in a variable named doc?\n",
    "Ans:   \n",
    "doc.paragraphs"
   ]
  },
  {
   "cell_type": "markdown",
   "id": "4984c341",
   "metadata": {},
   "source": [
    "#### Q8. What type of object has bold, underline, italic, strike, and outline variables?\n",
    "Ans:    \n",
    "A Run object has these variables"
   ]
  },
  {
   "cell_type": "markdown",
   "id": "55e45cd6",
   "metadata": {},
   "source": [
    "#### Q9. What is the difference between False, True, and None for the bold variable?\n",
    "Ans:   \n",
    "- True always makes the Run object bolded \n",
    "- False makes it always not bolded, no matter what the style's bold setting is. \n",
    "- None will make the Run object just use the style's bold setting."
   ]
  },
  {
   "cell_type": "markdown",
   "id": "11f08c6a",
   "metadata": {},
   "source": [
    "#### Q10. How do you create a Document object for a new Word document?\n",
    "Ans:    \n",
    "import docx    \n",
    "doc=docx.Document(docx file name)"
   ]
  },
  {
   "cell_type": "markdown",
   "id": "d3a280b4",
   "metadata": {},
   "source": [
    "#### Q11. How do you add a paragraph with the text 'Hello, there!' to a Document object stored in a variable named doc?\n",
    "Ans:   \n",
    "doc.add_paragraph('Hello there!')"
   ]
  },
  {
   "cell_type": "markdown",
   "id": "36c795a2",
   "metadata": {},
   "source": [
    "#### Q12. What integers represent the levels of headings available in Word documents?\n",
    "Ans:   \n",
    "The integers 0,1,2,3, and 4"
   ]
  },
  {
   "cell_type": "code",
   "execution_count": null,
   "id": "3b3d9ca8",
   "metadata": {},
   "outputs": [],
   "source": []
  }
 ],
 "metadata": {
  "kernelspec": {
   "display_name": "Python 3 (ipykernel)",
   "language": "python",
   "name": "python3"
  },
  "language_info": {
   "codemirror_mode": {
    "name": "ipython",
    "version": 3
   },
   "file_extension": ".py",
   "mimetype": "text/x-python",
   "name": "python",
   "nbconvert_exporter": "python",
   "pygments_lexer": "ipython3",
   "version": "3.9.7"
  }
 },
 "nbformat": 4,
 "nbformat_minor": 5
}
