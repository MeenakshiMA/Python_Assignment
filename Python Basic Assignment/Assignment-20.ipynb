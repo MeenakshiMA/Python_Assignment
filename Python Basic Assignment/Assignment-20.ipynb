{
 "cells": [
  {
   "cell_type": "markdown",
   "id": "5b9edc38",
   "metadata": {},
   "source": [
    "# Assignment-20"
   ]
  },
  {
   "cell_type": "markdown",
   "id": "12e314c7",
   "metadata": {},
   "source": [
    "#### Q1. Set the variable test1 to the string 'This is a test of the emergency text system,' and save test1 to a file named test.txt.\n",
    "Ans:"
   ]
  },
  {
   "cell_type": "code",
   "execution_count": 1,
   "id": "b799d602",
   "metadata": {},
   "outputs": [
    {
     "data": {
      "text/plain": [
       "44"
      ]
     },
     "execution_count": 1,
     "metadata": {},
     "output_type": "execute_result"
    }
   ],
   "source": [
    "test1 = 'This is a test of the emergency text system,'\n",
    "file = open('test.txt','w')\n",
    "file.write(test1)"
   ]
  },
  {
   "cell_type": "markdown",
   "id": "be64a3d0",
   "metadata": {},
   "source": [
    "#### Q2. Read the contents of the file test.txt into the variable test2. Is there a difference between test 1 and test 2?\n",
    "Ans:"
   ]
  },
  {
   "cell_type": "code",
   "execution_count": 2,
   "id": "74ce3151",
   "metadata": {},
   "outputs": [
    {
     "data": {
      "text/plain": [
       "''"
      ]
     },
     "execution_count": 2,
     "metadata": {},
     "output_type": "execute_result"
    }
   ],
   "source": [
    "file2 = open('test.txt','r')\n",
    "test2 = file2.readline()\n",
    "test2"
   ]
  },
  {
   "cell_type": "markdown",
   "id": "94992d3b",
   "metadata": {},
   "source": [
    "#### Q3. Create a CSV file called books.csv by using these lines:\n",
    "title,author,year   \n",
    "The Weirdstone of Brisingamen,Alan Garner,1960   \n",
    "Perdido Street Station,China Miéville,2000    \n",
    "Thud!,Terry Pratchett,2005    \n",
    "The Spellman Files,Lisa Lutz,2007    \n",
    "Small Gods,Terry Pratchett,1992    \n",
    "\n",
    "Ans:"
   ]
  },
  {
   "cell_type": "code",
   "execution_count": 3,
   "id": "508b35f2",
   "metadata": {},
   "outputs": [
    {
     "name": "stdout",
     "output_type": "stream",
     "text": [
      "title,author,year\r\n",
      "\n",
      "The Weirdstone of Brisingamen,Alan Garner,1960\r\n",
      "\n",
      "Perdido Street Station,China Miéville,2000\r\n",
      "\n",
      "Thud!,Terry Pratchett,2005\r\n",
      "\n",
      "The Spellman Files,Lisa Lutz,2007\r\n",
      "\n",
      "Small Gods,Terry Pratchett,1992\r\n",
      "\n"
     ]
    }
   ],
   "source": [
    "import csv\n",
    "rows =[ ['title','author','year'],\n",
    "    ['The Weirdstone of Brisingamen','Alan Garner',1960],\n",
    "    ['Perdido Street Station','China Miéville',2000],\n",
    "    ['Thud!','Terry Pratchett',2005],\n",
    "    ['The Spellman Files','Lisa Lutz',2007],\n",
    "    ['Small Gods','Terry Pratchett',1992]]\n",
    "with open('books.csv','w',newline='') as file:\n",
    "    writer = csv.writer(file)\n",
    "    writer.writerows(rows)\n",
    "    \n",
    "with open('books.csv','r',newline='') as file:\n",
    "    for line in file.readlines():\n",
    "        print(line)"
   ]
  },
  {
   "cell_type": "markdown",
   "id": "8b5471ec",
   "metadata": {},
   "source": [
    "#### Q4. Use the sqlite3 module to create a SQLite database called books.db, and a table called books with these fields: title (text), author (text), and year (integer).\n",
    "Ans:"
   ]
  },
  {
   "cell_type": "code",
   "execution_count": 4,
   "id": "49d36198",
   "metadata": {},
   "outputs": [],
   "source": [
    "import sqlite3\n",
    "conn = sqlite3.connect('books.db')\n",
    "cursor = conn.cursor()\n",
    "cursor.execute('DROP TABLE IF EXISTS books')\n",
    "cursor.execute('create table books(title varchar(20),author varchar(20), year int)')\n",
    "conn.commit()"
   ]
  },
  {
   "cell_type": "markdown",
   "id": "12c81624",
   "metadata": {},
   "source": [
    "#### Q5. Read books.csv and insert its data into the book table.\n",
    "Ans:"
   ]
  },
  {
   "cell_type": "code",
   "execution_count": 5,
   "id": "79e3c94b",
   "metadata": {},
   "outputs": [],
   "source": [
    "import pandas as pd\n",
    "\n",
    "read_books = pd.read_csv('books.csv',encoding='unicode_escape')\n",
    "read_books.to_sql('books', conn, if_exists='append', index = False)"
   ]
  },
  {
   "cell_type": "code",
   "execution_count": 6,
   "id": "29bd8edf",
   "metadata": {},
   "outputs": [
    {
     "data": {
      "text/html": [
       "<div>\n",
       "<style scoped>\n",
       "    .dataframe tbody tr th:only-of-type {\n",
       "        vertical-align: middle;\n",
       "    }\n",
       "\n",
       "    .dataframe tbody tr th {\n",
       "        vertical-align: top;\n",
       "    }\n",
       "\n",
       "    .dataframe thead th {\n",
       "        text-align: right;\n",
       "    }\n",
       "</style>\n",
       "<table border=\"1\" class=\"dataframe\">\n",
       "  <thead>\n",
       "    <tr style=\"text-align: right;\">\n",
       "      <th></th>\n",
       "      <th>title</th>\n",
       "      <th>author</th>\n",
       "      <th>year</th>\n",
       "    </tr>\n",
       "  </thead>\n",
       "  <tbody>\n",
       "    <tr>\n",
       "      <th>0</th>\n",
       "      <td>The Weirdstone of Brisingamen</td>\n",
       "      <td>Alan Garner</td>\n",
       "      <td>1960</td>\n",
       "    </tr>\n",
       "    <tr>\n",
       "      <th>1</th>\n",
       "      <td>Perdido Street Station</td>\n",
       "      <td>China Miéville</td>\n",
       "      <td>2000</td>\n",
       "    </tr>\n",
       "    <tr>\n",
       "      <th>2</th>\n",
       "      <td>Thud!</td>\n",
       "      <td>Terry Pratchett</td>\n",
       "      <td>2005</td>\n",
       "    </tr>\n",
       "    <tr>\n",
       "      <th>3</th>\n",
       "      <td>The Spellman Files</td>\n",
       "      <td>Lisa Lutz</td>\n",
       "      <td>2007</td>\n",
       "    </tr>\n",
       "    <tr>\n",
       "      <th>4</th>\n",
       "      <td>Small Gods</td>\n",
       "      <td>Terry Pratchett</td>\n",
       "      <td>1992</td>\n",
       "    </tr>\n",
       "  </tbody>\n",
       "</table>\n",
       "</div>"
      ],
      "text/plain": [
       "                           title           author  year\n",
       "0  The Weirdstone of Brisingamen      Alan Garner  1960\n",
       "1         Perdido Street Station   China Miéville  2000\n",
       "2                          Thud!  Terry Pratchett  2005\n",
       "3             The Spellman Files        Lisa Lutz  2007\n",
       "4                     Small Gods  Terry Pratchett  1992"
      ]
     },
     "execution_count": 6,
     "metadata": {},
     "output_type": "execute_result"
    }
   ],
   "source": [
    "read_books"
   ]
  },
  {
   "cell_type": "markdown",
   "id": "f3885b82",
   "metadata": {},
   "source": [
    "#### Q6. Select and print the title column from the book table in alphabetical order.\n",
    "Ans:"
   ]
  },
  {
   "cell_type": "code",
   "execution_count": 7,
   "id": "8a960938",
   "metadata": {},
   "outputs": [
    {
     "name": "stdout",
     "output_type": "stream",
     "text": [
      "[('Perdido Street Station',), ('Small Gods',), ('The Spellman Files',), ('The Weirdstone of Brisingamen',), ('Thud!',)]\n"
     ]
    }
   ],
   "source": [
    "cursor.execute('select title from books order by title asc')\n",
    "print(cursor.fetchall())"
   ]
  },
  {
   "cell_type": "markdown",
   "id": "76da4c99",
   "metadata": {},
   "source": [
    "#### Q7. From the book table, select and print all columns in the order of publication.\n",
    "Ans:"
   ]
  },
  {
   "cell_type": "code",
   "execution_count": 10,
   "id": "74ba3f7d",
   "metadata": {},
   "outputs": [
    {
     "data": {
      "text/html": [
       "<div>\n",
       "<style scoped>\n",
       "    .dataframe tbody tr th:only-of-type {\n",
       "        vertical-align: middle;\n",
       "    }\n",
       "\n",
       "    .dataframe tbody tr th {\n",
       "        vertical-align: top;\n",
       "    }\n",
       "\n",
       "    .dataframe thead th {\n",
       "        text-align: right;\n",
       "    }\n",
       "</style>\n",
       "<table border=\"1\" class=\"dataframe\">\n",
       "  <thead>\n",
       "    <tr style=\"text-align: right;\">\n",
       "      <th></th>\n",
       "      <th>title</th>\n",
       "      <th>author</th>\n",
       "      <th>year</th>\n",
       "    </tr>\n",
       "  </thead>\n",
       "  <tbody>\n",
       "    <tr>\n",
       "      <th>0</th>\n",
       "      <td>The Weirdstone of Brisingamen</td>\n",
       "      <td>Alan Garner</td>\n",
       "      <td>1960</td>\n",
       "    </tr>\n",
       "    <tr>\n",
       "      <th>1</th>\n",
       "      <td>Small Gods</td>\n",
       "      <td>Terry Pratchett</td>\n",
       "      <td>1992</td>\n",
       "    </tr>\n",
       "    <tr>\n",
       "      <th>2</th>\n",
       "      <td>Perdido Street Station</td>\n",
       "      <td>China Miéville</td>\n",
       "      <td>2000</td>\n",
       "    </tr>\n",
       "    <tr>\n",
       "      <th>3</th>\n",
       "      <td>Thud!</td>\n",
       "      <td>Terry Pratchett</td>\n",
       "      <td>2005</td>\n",
       "    </tr>\n",
       "    <tr>\n",
       "      <th>4</th>\n",
       "      <td>The Spellman Files</td>\n",
       "      <td>Lisa Lutz</td>\n",
       "      <td>2007</td>\n",
       "    </tr>\n",
       "  </tbody>\n",
       "</table>\n",
       "</div>"
      ],
      "text/plain": [
       "                           title           author  year\n",
       "0  The Weirdstone of Brisingamen      Alan Garner  1960\n",
       "1                     Small Gods  Terry Pratchett  1992\n",
       "2         Perdido Street Station   China Miéville  2000\n",
       "3                          Thud!  Terry Pratchett  2005\n",
       "4             The Spellman Files        Lisa Lutz  2007"
      ]
     },
     "execution_count": 10,
     "metadata": {},
     "output_type": "execute_result"
    }
   ],
   "source": [
    "cursor.execute('select title, author,year from books order by year')\n",
    "\n",
    "df = pd.DataFrame(cursor.fetchall(), columns=['title','author','year'])\n",
    "df"
   ]
  },
  {
   "cell_type": "markdown",
   "id": "9dd44488",
   "metadata": {},
   "source": [
    "#### Q8. Use the sqlalchemy module to connect to the sqlite3 database books.db that you just made in exercise 6.\n",
    "Ans:"
   ]
  },
  {
   "cell_type": "code",
   "execution_count": 11,
   "id": "e806736a",
   "metadata": {},
   "outputs": [
    {
     "name": "stdout",
     "output_type": "stream",
     "text": [
      "('The Weirdstone of Brisingamen', 'Alan Garner', 1960)\n",
      "('Perdido Street Station', 'China Miéville', 2000)\n",
      "('Thud!', 'Terry Pratchett', 2005)\n",
      "('The Spellman Files', 'Lisa Lutz', 2007)\n",
      "('Small Gods', 'Terry Pratchett', 1992)\n"
     ]
    }
   ],
   "source": [
    "import sqlalchemy\n",
    "e = sqlalchemy.create_engine(\"sqlite:///books.db\")\n",
    "rows = e.execute('select * from books')\n",
    "for i in rows:\n",
    "    print(i)"
   ]
  },
  {
   "cell_type": "markdown",
   "id": "1d72488d",
   "metadata": {},
   "source": [
    "#### Q9. Install the Redis server and the Python redis library (pip install redis) on your computer. Create a Redis hash called test with the fields count (1) and name ('Fester Bestertester'). Print all the fields for test.\n",
    "Ans:"
   ]
  },
  {
   "cell_type": "code",
   "execution_count": 12,
   "id": "128b9d58",
   "metadata": {},
   "outputs": [
    {
     "name": "stdout",
     "output_type": "stream",
     "text": [
      "Requirement already satisfied: redis in c:\\users\\prakruti\\anaconda3\\lib\\site-packages (4.2.2)Note: you may need to restart the kernel to use updated packages.\n",
      "Requirement already satisfied: deprecated>=1.2.3 in c:\\users\\prakruti\\anaconda3\\lib\\site-packages (from redis) (1.2.13)\n",
      "Requirement already satisfied: async-timeout>=4.0.2 in c:\\users\\prakruti\\anaconda3\\lib\\site-packages (from redis) (4.0.2)\n",
      "Requirement already satisfied: packaging>=20.4 in c:\\users\\prakruti\\anaconda3\\lib\\site-packages (from redis) (21.0)\n",
      "Requirement already satisfied: wrapt<2,>=1.10 in c:\\users\\prakruti\\anaconda3\\lib\\site-packages (from deprecated>=1.2.3->redis) (1.12.1)\n",
      "Requirement already satisfied: pyparsing>=2.0.2 in c:\\users\\prakruti\\anaconda3\\lib\\site-packages (from packaging>=20.4->redis) (3.0.4)\n",
      "\n"
     ]
    }
   ],
   "source": [
    "pip install redis"
   ]
  },
  {
   "cell_type": "code",
   "execution_count": null,
   "id": "993fd955",
   "metadata": {},
   "outputs": [],
   "source": [
    "#import redis\n",
    "conn = redis.Redis()\n",
    "conn.delete('test')\n",
    "conn.set('test', {'count': 1, 'name': 'Fester Bestertester'})\n",
    "conn.get('test')\n"
   ]
  },
  {
   "cell_type": "code",
   "execution_count": null,
   "id": "e664cc45",
   "metadata": {},
   "outputs": [],
   "source": []
  }
 ],
 "metadata": {
  "kernelspec": {
   "display_name": "Python 3 (ipykernel)",
   "language": "python",
   "name": "python3"
  },
  "language_info": {
   "codemirror_mode": {
    "name": "ipython",
    "version": 3
   },
   "file_extension": ".py",
   "mimetype": "text/x-python",
   "name": "python",
   "nbconvert_exporter": "python",
   "pygments_lexer": "ipython3",
   "version": "3.9.7"
  }
 },
 "nbformat": 4,
 "nbformat_minor": 5
}
