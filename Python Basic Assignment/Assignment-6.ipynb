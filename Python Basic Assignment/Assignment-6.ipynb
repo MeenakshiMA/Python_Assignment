{
 "cells": [
  {
   "cell_type": "markdown",
   "id": "498c1035",
   "metadata": {},
   "source": [
    "# Assignment-6"
   ]
  },
  {
   "cell_type": "raw",
   "id": "9db9fb5f",
   "metadata": {},
   "source": [
    "Q1. What are escape characters, and how do you use them?\n",
    "Ans- The backslash \"\\\" is a special character, also called the \"escape\" character. It is used in representing certain                whitespace characters: \"\\t\" is a tab,  \"\\n\" is a newline, and  \"\\r\" is a carriage return."
   ]
  },
  {
   "cell_type": "code",
   "execution_count": null,
   "id": "674030b5",
   "metadata": {},
   "outputs": [],
   "source": []
  },
  {
   "cell_type": "raw",
   "id": "5c6ae7be",
   "metadata": {},
   "source": [
    "Q2. What do the escape characters n and t stand for?\n",
    "Ans- The escape characters 'n' stands for \"\\n\" is a newline,\n",
    "     and The escape characters 't' stands for  \"\\t\" is a tab."
   ]
  },
  {
   "cell_type": "code",
   "execution_count": null,
   "id": "683b454c",
   "metadata": {},
   "outputs": [],
   "source": []
  },
  {
   "cell_type": "raw",
   "id": "9bfa4a78",
   "metadata": {},
   "source": [
    "Q3. What is the way to include backslash characters in a string?\n",
    "Ans- The \\\\ escape character will represent a backslash character."
   ]
  },
  {
   "cell_type": "code",
   "execution_count": null,
   "id": "ccdbd2da",
   "metadata": {},
   "outputs": [],
   "source": []
  },
  {
   "cell_type": "raw",
   "id": "b54ba686",
   "metadata": {},
   "source": [
    "Q4. The string \"Howl's Moving Castle\" is a correct value. Why isn't the single quote character in the word Howl's not escaped a     problem?\n",
    "Ans- Because the whole string is encapsulated by quotes.\n"
   ]
  },
  {
   "cell_type": "code",
   "execution_count": null,
   "id": "e6958dd1",
   "metadata": {},
   "outputs": [],
   "source": []
  },
  {
   "cell_type": "raw",
   "id": "b248209d",
   "metadata": {},
   "source": [
    "Q5. How do you write a string of newlines if you don't want to use the n character?\n",
    "Ans- Multiline strings allow you to use newlines in strings without the \\n escape character."
   ]
  },
  {
   "cell_type": "code",
   "execution_count": null,
   "id": "d5c6242b",
   "metadata": {},
   "outputs": [],
   "source": []
  },
  {
   "cell_type": "raw",
   "id": "5960e9e5",
   "metadata": {},
   "source": [
    "Q6. What are the values of the given expressions?\n",
    "   1. 'Hello, world!'[1]\n",
    "   2. 'Hello, world!'[0:5]\n",
    "   3. 'Hello, world!'[:5]\n",
    "   4. 'Hello, world!'[3:]\n",
    " \n",
    "Ans- 1. 'e',  2. 'Heloo',  3.'Hello',  4.'lo, world!'\n"
   ]
  },
  {
   "cell_type": "code",
   "execution_count": 1,
   "id": "525627b0",
   "metadata": {},
   "outputs": [
    {
     "data": {
      "text/plain": [
       "'e'"
      ]
     },
     "execution_count": 1,
     "metadata": {},
     "output_type": "execute_result"
    }
   ],
   "source": [
    "'Hello, world!'[1]\n",
    "    "
   ]
  },
  {
   "cell_type": "code",
   "execution_count": 2,
   "id": "6ae4dcc0",
   "metadata": {},
   "outputs": [
    {
     "data": {
      "text/plain": [
       "'Hello'"
      ]
     },
     "execution_count": 2,
     "metadata": {},
     "output_type": "execute_result"
    }
   ],
   "source": [
    "'Hello, world!'[0:5]\n",
    "    "
   ]
  },
  {
   "cell_type": "code",
   "execution_count": 3,
   "id": "d999aee5",
   "metadata": {},
   "outputs": [
    {
     "data": {
      "text/plain": [
       "'Hello'"
      ]
     },
     "execution_count": 3,
     "metadata": {},
     "output_type": "execute_result"
    }
   ],
   "source": [
    "'Hello, world!'[:5]\n",
    "    \n"
   ]
  },
  {
   "cell_type": "code",
   "execution_count": 4,
   "id": "f91716b6",
   "metadata": {},
   "outputs": [
    {
     "data": {
      "text/plain": [
       "'lo, world!'"
      ]
     },
     "execution_count": 4,
     "metadata": {},
     "output_type": "execute_result"
    }
   ],
   "source": [
    "'Hello, world!'[3:]"
   ]
  },
  {
   "cell_type": "code",
   "execution_count": null,
   "id": "eb1d0869",
   "metadata": {},
   "outputs": [],
   "source": []
  },
  {
   "cell_type": "raw",
   "id": "5a6bbe36",
   "metadata": {},
   "source": [
    "Q7. What are the values of the following expressions?\n",
    "   1. 'Hello'.upper()\n",
    "   2. 'Hello'.upper().isupper()\n",
    "   3. 'Hello'.upper().lower()\n",
    "\n",
    "Ans- 1. 'HELLO',   2. True,   3.'hello'"
   ]
  },
  {
   "cell_type": "code",
   "execution_count": 5,
   "id": "708e34b4",
   "metadata": {},
   "outputs": [
    {
     "data": {
      "text/plain": [
       "'HELLO'"
      ]
     },
     "execution_count": 5,
     "metadata": {},
     "output_type": "execute_result"
    }
   ],
   "source": [
    "'Hello'.upper()"
   ]
  },
  {
   "cell_type": "code",
   "execution_count": 6,
   "id": "6bc5f123",
   "metadata": {},
   "outputs": [
    {
     "data": {
      "text/plain": [
       "True"
      ]
     },
     "execution_count": 6,
     "metadata": {},
     "output_type": "execute_result"
    }
   ],
   "source": [
    "'Hello'.upper().isupper()"
   ]
  },
  {
   "cell_type": "code",
   "execution_count": 7,
   "id": "6d79998d",
   "metadata": {},
   "outputs": [
    {
     "data": {
      "text/plain": [
       "'hello'"
      ]
     },
     "execution_count": 7,
     "metadata": {},
     "output_type": "execute_result"
    }
   ],
   "source": [
    "'Hello'.upper().lower()"
   ]
  },
  {
   "cell_type": "code",
   "execution_count": null,
   "id": "13fe28da",
   "metadata": {},
   "outputs": [],
   "source": []
  },
  {
   "cell_type": "raw",
   "id": "57d3ee33",
   "metadata": {},
   "source": [
    "Q8. What are the values of the following expressions?\n",
    "    1. 'Remember, remember, the fifth of July.'.split()\n",
    "    2. '-'.join('There can only one.'.split())\n",
    "  \n",
    "Ans- 1.['Remember,', 'remember,', 'the', 'fifth', 'of', 'July.']\n",
    "     2.'There-can-only-one.'\n"
   ]
  },
  {
   "cell_type": "code",
   "execution_count": 8,
   "id": "c7bc7fb6",
   "metadata": {},
   "outputs": [
    {
     "data": {
      "text/plain": [
       "['Remember,', 'remember,', 'the', 'fifth', 'of', 'July.']"
      ]
     },
     "execution_count": 8,
     "metadata": {},
     "output_type": "execute_result"
    }
   ],
   "source": [
    "'Remember, remember, the fifth of July.'.split()"
   ]
  },
  {
   "cell_type": "code",
   "execution_count": 9,
   "id": "d25f181a",
   "metadata": {},
   "outputs": [
    {
     "data": {
      "text/plain": [
       "'There-can-only-one.'"
      ]
     },
     "execution_count": 9,
     "metadata": {},
     "output_type": "execute_result"
    }
   ],
   "source": [
    "'-'.join('There can only one.'.split())"
   ]
  },
  {
   "cell_type": "raw",
   "id": "2d401205",
   "metadata": {},
   "source": [
    "Q9. What are the methods for right-justifying, left-justifying, and centering a string?\n",
    "Ans- The rjust(), ljust(), and center() string methods."
   ]
  },
  {
   "cell_type": "raw",
   "id": "d85addac",
   "metadata": {},
   "source": [
    "Q10. What is the best way to remove whitespace characters from the start or end?\n",
    "Ans- we can use the trimStart() or trimEnd() method.\n"
   ]
  },
  {
   "cell_type": "raw",
   "id": "a3bb85d1",
   "metadata": {},
   "source": []
  },
  {
   "cell_type": "code",
   "execution_count": null,
   "id": "95f00d91",
   "metadata": {},
   "outputs": [],
   "source": []
  }
 ],
 "metadata": {
  "kernelspec": {
   "display_name": "Python 3 (ipykernel)",
   "language": "python",
   "name": "python3"
  },
  "language_info": {
   "codemirror_mode": {
    "name": "ipython",
    "version": 3
   },
   "file_extension": ".py",
   "mimetype": "text/x-python",
   "name": "python",
   "nbconvert_exporter": "python",
   "pygments_lexer": "ipython3",
   "version": "3.9.7"
  }
 },
 "nbformat": 4,
 "nbformat_minor": 5
}
