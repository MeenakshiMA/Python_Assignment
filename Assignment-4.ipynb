{
 "cells": [
  {
   "cell_type": "markdown",
   "id": "d3c306cb",
   "metadata": {},
   "source": [
    "# Assignment-4"
   ]
  },
  {
   "cell_type": "raw",
   "id": "2156f11e",
   "metadata": {},
   "source": [
    "Q1. What exactly is []?\n",
    "Ans- Its represents the empty list value, i.e. list containes no items"
   ]
  },
  {
   "cell_type": "raw",
   "id": "018d0314",
   "metadata": {},
   "source": [
    "Q2. In a list of values stored in a variable called spam, how would you assign the value 'hello' as the third value? (Assume [2, 4, 6, 8, 10] are in spam.)\n",
    "Ans- spam[2] = \"hello\""
   ]
  },
  {
   "cell_type": "code",
   "execution_count": 10,
   "id": "f4f08aad",
   "metadata": {},
   "outputs": [],
   "source": [
    "spam=[2,4,6,8,10]"
   ]
  },
  {
   "cell_type": "code",
   "execution_count": 11,
   "id": "b738fa8d",
   "metadata": {},
   "outputs": [
    {
     "data": {
      "text/plain": [
       "[2, 4, 6, 8, 10]"
      ]
     },
     "execution_count": 11,
     "metadata": {},
     "output_type": "execute_result"
    }
   ],
   "source": [
    "spam"
   ]
  },
  {
   "cell_type": "code",
   "execution_count": 12,
   "id": "caed1e6b",
   "metadata": {},
   "outputs": [
    {
     "data": {
      "text/plain": [
       "[2, 4, 'hello', 8, 10]"
      ]
     },
     "execution_count": 12,
     "metadata": {},
     "output_type": "execute_result"
    }
   ],
   "source": [
    "spam[2] = \"hello\"\n",
    "spam"
   ]
  },
  {
   "cell_type": "code",
   "execution_count": null,
   "id": "96600b92",
   "metadata": {},
   "outputs": [],
   "source": []
  },
  {
   "cell_type": "markdown",
   "id": "cea77f3c",
   "metadata": {},
   "source": [
    "# Let's pretend the spam includes the list ['a', 'b', 'c', 'd'] for the next three queries."
   ]
  },
  {
   "cell_type": "code",
   "execution_count": 27,
   "id": "62b012fe",
   "metadata": {},
   "outputs": [
    {
     "data": {
      "text/plain": [
       "'d'"
      ]
     },
     "execution_count": 27,
     "metadata": {},
     "output_type": "execute_result"
    }
   ],
   "source": [
    "'''Q3. What is the value of spam[int(int('3' * 2) / 11)]?\n",
    "Ans- 'd',  Note that '3' * 2 is the string '33', which is passed to int() before being divided by 11. This eventually evaluates to 3'''\n",
    "spam = ['a','b','c','d']\n",
    "spam[int(int('3' * 2) / 11)]"
   ]
  },
  {
   "cell_type": "code",
   "execution_count": 30,
   "id": "dd9d6903",
   "metadata": {},
   "outputs": [
    {
     "data": {
      "text/plain": [
       "'d'"
      ]
     },
     "execution_count": 30,
     "metadata": {},
     "output_type": "execute_result"
    }
   ],
   "source": [
    "#Q4. What is the value of spam[-1]?\n",
    "spam[-1]\n",
    "#Ans- 'd'"
   ]
  },
  {
   "cell_type": "code",
   "execution_count": 31,
   "id": "bcb93e32",
   "metadata": {},
   "outputs": [
    {
     "data": {
      "text/plain": [
       "['a', 'b']"
      ]
     },
     "execution_count": 31,
     "metadata": {},
     "output_type": "execute_result"
    }
   ],
   "source": [
    "#Q5. What is the value of spam[:2]?\n",
    "spam[:2]\n",
    "#Ans- ['a','b']"
   ]
  },
  {
   "cell_type": "markdown",
   "id": "a51842bd",
   "metadata": {},
   "source": [
    "# Let's pretend bacon has the list [3.14, 'cat,' 11, 'cat,' True] for the next three questions."
   ]
  },
  {
   "cell_type": "code",
   "execution_count": 70,
   "id": "a0be2c66",
   "metadata": {},
   "outputs": [],
   "source": [
    "bacon = [3.14, 'cat', 11, 'cat',True]"
   ]
  },
  {
   "cell_type": "code",
   "execution_count": 71,
   "id": "c6563110",
   "metadata": {},
   "outputs": [
    {
     "data": {
      "text/plain": [
       "1"
      ]
     },
     "execution_count": 71,
     "metadata": {},
     "output_type": "execute_result"
    }
   ],
   "source": [
    "#6. What is the value of bacon.index('cat')?\n",
    "bacon.index('cat')\n",
    "#Ans- 1"
   ]
  },
  {
   "cell_type": "code",
   "execution_count": 72,
   "id": "7ed9adce",
   "metadata": {},
   "outputs": [
    {
     "data": {
      "text/plain": [
       "[3.14, 'cat', 11, 'cat', True, 99]"
      ]
     },
     "execution_count": 72,
     "metadata": {},
     "output_type": "execute_result"
    }
   ],
   "source": [
    "#Q7. How does bacon.append(99) change the look of the list value in bacon?\n",
    "bacon.append(99)\n",
    "bacon"
   ]
  },
  {
   "cell_type": "code",
   "execution_count": 73,
   "id": "1021ac1f",
   "metadata": {},
   "outputs": [
    {
     "data": {
      "text/plain": [
       "[3.14, 11, 'cat', True, 99]"
      ]
     },
     "execution_count": 73,
     "metadata": {},
     "output_type": "execute_result"
    }
   ],
   "source": [
    "#Q8. How does bacon.remove('cat') change the look of the list in bacon?\n",
    "bacon.remove('cat')\n",
    "bacon\n",
    "#Ans- [3.14, 11, 'cat', True, 99]"
   ]
  },
  {
   "cell_type": "raw",
   "id": "418ff23a",
   "metadata": {},
   "source": [
    "Q9. What are the list concatenation and list replication operators?\n",
    "Ans- The operator for list concatenation is '+' , and The operator for list replication is '*'\n"
   ]
  },
  {
   "cell_type": "raw",
   "id": "adb7d4e4",
   "metadata": {},
   "source": [
    "Q10. What is difference between the list methods append() and insert()?\n",
    "Ans- The append() will add values to the end of a list.\n",
    "     The insert() will add values at a specified index of the list.\n"
   ]
  },
  {
   "cell_type": "raw",
   "id": "b82522bb",
   "metadata": {},
   "source": [
    "Q11. What are the two methods for removing items from a list?\n",
    "Ans- pop() and remove()"
   ]
  },
  {
   "cell_type": "raw",
   "id": "e2c62481",
   "metadata": {},
   "source": [
    "Q12. Describe how list values and string values are identical.\n",
    "Ans- Both strings and list have lengths, len()\n",
    "     A string's length is the number of characters in the string,\n",
    "     A list's length is the number of items in the list. And\n",
    "     Have indexes and slices, have concatenated or replicated."
   ]
  },
  {
   "cell_type": "raw",
   "id": "4af0810c",
   "metadata": {},
   "source": [
    "Q13. What's the difference between tuples and lists?\n",
    "Ans- Tuples:\n",
    "     Tuples are immutable objects i.e. (con not be changed)\n",
    "     Tuples are written using parentheses, ( and ).\n",
    "     \n",
    "     Lists:\n",
    "     Lists are mutable objects i.e. (can be modified)\n",
    "     Lists use the square brackets, [ and ].\n",
    "     "
   ]
  },
  {
   "cell_type": "code",
   "execution_count": 89,
   "id": "52d8a01d",
   "metadata": {},
   "outputs": [
    {
     "data": {
      "text/plain": [
       "(42,)"
      ]
     },
     "execution_count": 89,
     "metadata": {},
     "output_type": "execute_result"
    }
   ],
   "source": [
    "#Q14. How do you type a tuple value that only contains the integer 42?\n",
    "t = (42,)\n",
    "t\n",
    "#Ans- t = (42,)\n"
   ]
  },
  {
   "cell_type": "code",
   "execution_count": 100,
   "id": "208826a7",
   "metadata": {},
   "outputs": [
    {
     "data": {
      "text/plain": [
       "list"
      ]
     },
     "execution_count": 100,
     "metadata": {},
     "output_type": "execute_result"
    }
   ],
   "source": [
    "#Q15. How do you get a list value's tuple form? How do you get a tuple value's list form?\n",
    "\n",
    "#Ans- Using list() and tuple()\n",
    "\n",
    "#EX: list- '''\n",
    "data = [(1,2,3,4),(2,3,4,5),('asf','af')]\n",
    "type(data)\n"
   ]
  },
  {
   "cell_type": "code",
   "execution_count": 98,
   "id": "9bd451ec",
   "metadata": {},
   "outputs": [
    {
     "data": {
      "text/plain": [
       "tuple"
      ]
     },
     "execution_count": 98,
     "metadata": {},
     "output_type": "execute_result"
    }
   ],
   "source": [
    "#EX: tuple\n",
    "d = ([1,2,3,4], [2,3,4,5],[6,7,6,6,6],['asf','af'])\n",
    "type(d)\n"
   ]
  },
  {
   "cell_type": "raw",
   "id": "091a8782",
   "metadata": {},
   "source": [
    "Q16. Variables that \"contain\" list values are not necessarily lists themselves. Instead, what do they contain?\n",
    "Ans- Variables will contain references to list values rather than list values themselves. \n"
   ]
  },
  {
   "cell_type": "raw",
   "id": "e05181cc",
   "metadata": {},
   "source": [
    "Q17. How do you distinguish between copy.copy() and copy.deepcopy()?\n",
    "Ans- The copy.copy() function will do a shallow copy of a list, And \n",
    "     the copy.deepcopy() function will do a deep copy of a list"
   ]
  },
  {
   "cell_type": "code",
   "execution_count": null,
   "id": "d4a8c200",
   "metadata": {},
   "outputs": [],
   "source": []
  },
  {
   "cell_type": "code",
   "execution_count": null,
   "id": "dc1b474d",
   "metadata": {},
   "outputs": [],
   "source": []
  },
  {
   "cell_type": "code",
   "execution_count": null,
   "id": "88520427",
   "metadata": {},
   "outputs": [],
   "source": []
  }
 ],
 "metadata": {
  "kernelspec": {
   "display_name": "Python 3",
   "language": "python",
   "name": "python3"
  },
  "language_info": {
   "codemirror_mode": {
    "name": "ipython",
    "version": 3
   },
   "file_extension": ".py",
   "mimetype": "text/x-python",
   "name": "python",
   "nbconvert_exporter": "python",
   "pygments_lexer": "ipython3",
   "version": "3.8.8"
  }
 },
 "nbformat": 4,
 "nbformat_minor": 5
}
