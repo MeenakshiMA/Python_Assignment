{
 "cells": [
  {
   "cell_type": "markdown",
   "id": "c197fb9b",
   "metadata": {},
   "source": [
    "#### Q1. What is the relationship between classes and modules?\n",
    "Ans:\n",
    "- Modules are files present inside a package.\n",
    "- whereas a class is used to encapsulate data and functions together inside the same unit.     \n",
    "- Modules are collections of methods and constants.         \n",
    "- They cannot generate instances.           \n",
    "- Classes may generate instances (objects), and have per-instance state (instance variables).\n"
   ]
  },
  {
   "cell_type": "markdown",
   "id": "f3502551",
   "metadata": {},
   "source": [
    "#### Q2. How do you make instances and classes?\n",
    "Ans: To create class use class keyword and classname, Use the class name to create a new instance       \n",
    "- Call ClassName() to create a new instance of the class ClassName . \n",
    "- To pass parameters to the class instance, the class must have an __init__() method. \n",
    "- Pass the parameters in the constructor of the class."
   ]
  },
  {
   "cell_type": "markdown",
   "id": "b4e46fdc",
   "metadata": {},
   "source": [
    "#### Q3. Where and how should be class attributes created?\n",
    "Ans:  \n",
    "Class attributes are attributes which are owned by the class itself. They will be shared by all the instances of the class. Therefore they have the same value for every instance. We define class attributes outside all the methods, usually they are placed at the top, right below the class header.\n",
    "We define class attributes outside all the methods, usually they are placed at the top, right below the class header."
   ]
  },
  {
   "cell_type": "markdown",
   "id": "64c1e3d7",
   "metadata": {},
   "source": [
    "#### Q4. Where and how are instance attributes created?\n",
    "Ans:Instance attributes are defined in the constructor. Defined directly inside a class. Defined inside a constructor using the self parameter."
   ]
  },
  {
   "cell_type": "markdown",
   "id": "8be90c0d",
   "metadata": {},
   "source": [
    "#### Q5. What does the term \"self\" in a Python class mean?\n",
    "Ans:The self is used to represent the instance of the class. With this keyword, you can access the attributes and methods of the class in python.      \n",
    "It binds the attributes with the given arguments"
   ]
  },
  {
   "cell_type": "markdown",
   "id": "26ae43d1",
   "metadata": {},
   "source": [
    "#### Q6. How does a Python class handle operator overloading?\n",
    "Ans: The operator overloading in Python means provide extended meaning beyond their predefined operational meaning.   \n",
    "Such as, we use the \"+\" operator for adding two integers as well as joining two strings or merging two lists.   \n",
    "We can achieve this as the \"+\" operator is overloaded by the \"int\" class and \"str\" class."
   ]
  },
  {
   "cell_type": "markdown",
   "id": "c3f6994e",
   "metadata": {},
   "source": [
    "#### Q7. When do you consider allowing operator overloading of your classes?\n",
    "Ans: Operator overloading allows operators to have user-defined meanings on user-defined types (classes)."
   ]
  },
  {
   "cell_type": "markdown",
   "id": "aef355e0",
   "metadata": {},
   "source": [
    "#### Q8. What is the most popular form of operator overloading?\n",
    "Ans: A most popular form of operator overloading is the Addition (+) operator.     \n",
    "The '+' operator operates on two numbers and the same operator operates on two strings.     \n",
    "It performs “Addition” on numbers whereas it performs “Concatenation” on strings."
   ]
  },
  {
   "cell_type": "markdown",
   "id": "b5ec9b17",
   "metadata": {},
   "source": [
    "#### Q9. What are the two most important concepts to grasp in order to comprehend Python OOP code?\n",
    "Ans:In order to develop robust and well-designed software products with Python, it is essential to obtain a comprehensive understanding of OOP.      \n",
    "In this article, we will elaborate on two key concepts of OOP's which are inheritance and polymorphism"
   ]
  },
  {
   "cell_type": "code",
   "execution_count": null,
   "id": "3bda0439",
   "metadata": {},
   "outputs": [],
   "source": []
  }
 ],
 "metadata": {
  "kernelspec": {
   "display_name": "Python 3 (ipykernel)",
   "language": "python",
   "name": "python3"
  },
  "language_info": {
   "codemirror_mode": {
    "name": "ipython",
    "version": 3
   },
   "file_extension": ".py",
   "mimetype": "text/x-python",
   "name": "python",
   "nbconvert_exporter": "python",
   "pygments_lexer": "ipython3",
   "version": "3.9.7"
  }
 },
 "nbformat": 4,
 "nbformat_minor": 5
}
