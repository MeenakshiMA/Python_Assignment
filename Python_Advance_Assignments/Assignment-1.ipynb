{
 "cells": [
  {
   "cell_type": "markdown",
   "id": "46a5652b",
   "metadata": {},
   "source": [
    "## Assignment-1"
   ]
  },
  {
   "cell_type": "markdown",
   "id": "f07d7aff",
   "metadata": {},
   "source": [
    "#### Q1. What is the purpose of Python's OOP?\n",
    "Ans:The purpose of python's OOP is, it makes code more reusable and makes it easier to work with larger programs.           \n",
    "OOP programs prevent you from repeating code because a class can be defined once and reused many times"
   ]
  },
  {
   "cell_type": "markdown",
   "id": "a936c33d",
   "metadata": {},
   "source": [
    "#### Q2. Where does an inheritance search look for an attribute?\n",
    "Ans: The inheritance search is simply a search of the tree from bottom to top looking for the lowest occurrence of an attribute name."
   ]
  },
  {
   "cell_type": "markdown",
   "id": "23cee566",
   "metadata": {},
   "source": [
    "#### Q3. How do you distinguish between a class object and an instance object?\n",
    "Ans: Class Object : It is the copy of the class.      \n",
    "        Instance Object : Its a variable which is used to hold memory address of the object."
   ]
  },
  {
   "cell_type": "markdown",
   "id": "2bed924a",
   "metadata": {},
   "source": [
    "#### Q4. What makes the first argument in a class’s method function special?\n",
    "Ans:The first argument of every class method, including init, is always a reference to the current instance of the class. By convention, this argument is always named self. In the init method, self refers to the newly created object; in other class methods, it refers to the instance whose method was called."
   ]
  },
  {
   "cell_type": "markdown",
   "id": "ad23a6a3",
   "metadata": {},
   "source": [
    "#### Q5. What is the purpose of the __init__ method?\n",
    "Ans:The __init__ function is called every time an object is created from a class. \n",
    "The __init__ method lets the class initialize the object's attributes and serves no other purpose. It is only used within classes."
   ]
  },
  {
   "cell_type": "markdown",
   "id": "db99f5b2",
   "metadata": {},
   "source": [
    "#### Q6. What is the process for creating a class instance?\n",
    "Ans: When you create an object, you are creating an instance of a class, therefore \"instantiating\" a class. The new operator requires a single, postfix argument a call to a constructor. The name of the constructor provides the name of the class to instantiate. The constructor initializes the new object."
   ]
  },
  {
   "cell_type": "markdown",
   "id": "eaf78cc1",
   "metadata": {},
   "source": [
    "#### Q7. What is the process for creating a class?\n",
    "Ans: Classes are created by keyword class. Attributes are the variables that belong to a class.         \n",
    "Attributes are always public and can be accessed using the dot (.) operator."
   ]
  },
  {
   "cell_type": "markdown",
   "id": "fae56de5",
   "metadata": {},
   "source": [
    "#### Q8. How would you define the superclasses of a class?\n",
    "Ans:A superclass is the class from which many subclasses can be created. The subclasses inherit the characteristics of a superclass. The superclass is also known as the parent class or base class"
   ]
  },
  {
   "cell_type": "code",
   "execution_count": null,
   "id": "d1654b1c",
   "metadata": {},
   "outputs": [],
   "source": []
  }
 ],
 "metadata": {
  "kernelspec": {
   "display_name": "Python 3 (ipykernel)",
   "language": "python",
   "name": "python3"
  },
  "language_info": {
   "codemirror_mode": {
    "name": "ipython",
    "version": 3
   },
   "file_extension": ".py",
   "mimetype": "text/x-python",
   "name": "python",
   "nbconvert_exporter": "python",
   "pygments_lexer": "ipython3",
   "version": "3.9.7"
  }
 },
 "nbformat": 4,
 "nbformat_minor": 5
}
