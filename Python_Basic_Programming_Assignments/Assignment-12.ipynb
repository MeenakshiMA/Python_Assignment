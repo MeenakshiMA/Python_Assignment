{
 "cells": [
  {
   "cell_type": "markdown",
   "id": "f701384f",
   "metadata": {},
   "source": [
    "## Assignment-12"
   ]
  },
  {
   "cell_type": "markdown",
   "id": "aa6d48e1",
   "metadata": {},
   "source": [
    "#### Q1.\tWrite a Python program to Extract Unique values dictionary values?\n",
    "Sol:"
   ]
  },
  {
   "cell_type": "code",
   "execution_count": null,
   "id": "d448265e",
   "metadata": {},
   "outputs": [],
   "source": [
    "def dict_uniq_val(d):\n",
    "    unique_values = {i for i in d.values()}\n",
    "    return unique_values"
   ]
  },
  {
   "cell_type": "code",
   "execution_count": null,
   "id": "a7b1f0b3",
   "metadata": {},
   "outputs": [],
   "source": [
    "dict_uniq_val({'k1':123, 'k2':'hello', 'k3':123, 'k4': 'value', 'k5':'hello'})"
   ]
  },
  {
   "cell_type": "markdown",
   "id": "d3bd709c",
   "metadata": {},
   "source": [
    "#### Q2.\tWrite a Python program to find the sum of all items in a dictionary?\n",
    "Sol:"
   ]
  },
  {
   "cell_type": "code",
   "execution_count": 1,
   "id": "39e6b0a0",
   "metadata": {},
   "outputs": [],
   "source": [
    "def sum_dict(d):\n",
    "    dict_sum = sum(d.values())\n",
    "    return dict_sum"
   ]
  },
  {
   "cell_type": "code",
   "execution_count": 2,
   "id": "4b6b0c4f",
   "metadata": {},
   "outputs": [
    {
     "data": {
      "text/plain": [
       "1863"
      ]
     },
     "execution_count": 2,
     "metadata": {},
     "output_type": "execute_result"
    }
   ],
   "source": [
    "sum_dict({'k':100, 'k2':455, 'k3':400, 'k4':908})"
   ]
  },
  {
   "cell_type": "code",
   "execution_count": 3,
   "id": "772d4b04",
   "metadata": {},
   "outputs": [
    {
     "name": "stdout",
     "output_type": "stream",
     "text": [
      "Sum of all values is : 328\n"
     ]
    }
   ],
   "source": [
    "dic = {'k1' : 89, 'k2' : 111, 'k3' : 123, 'k4' : 5}\n",
    "sum = 0\n",
    "for i in dic.values():\n",
    "    sum =sum + i\n",
    "print(\"Sum of all values is : {}\".format(sum))"
   ]
  },
  {
   "cell_type": "markdown",
   "id": "2ee371dd",
   "metadata": {},
   "source": [
    "#### Q3.\tWrite a Python program to Merging two Dictionaries?\n",
    "Sol:"
   ]
  },
  {
   "cell_type": "code",
   "execution_count": 4,
   "id": "ca1dd181",
   "metadata": {},
   "outputs": [],
   "source": [
    "def dict_merge(d1,d2):\n",
    "    for item in d2.items():\n",
    "        d1.update(d2)\n",
    "    return d1\n"
   ]
  },
  {
   "cell_type": "code",
   "execution_count": 5,
   "id": "0f51bb17",
   "metadata": {},
   "outputs": [
    {
     "data": {
      "text/plain": [
       "{'k': 11, 'k1': 12, 'k2': 13, 'k3': 14, 'k4': 15}"
      ]
     },
     "execution_count": 5,
     "metadata": {},
     "output_type": "execute_result"
    }
   ],
   "source": [
    "dict_merge({ 'k': 11, 'k1': 12},{ 'k2': 13, 'k3': 14, 'k4': 15})"
   ]
  },
  {
   "cell_type": "markdown",
   "id": "2f7700e8",
   "metadata": {},
   "source": [
    "#### 4.\tWrite a Python program to convert key-values list to flat dictionary?\n",
    "Sol:"
   ]
  },
  {
   "cell_type": "code",
   "execution_count": 6,
   "id": "391f1431",
   "metadata": {},
   "outputs": [],
   "source": [
    "def flat_dict():\n",
    "    my_dict = {'month_num' : [1, 2, 3, 4, 5, 6], 'name_of_month' : ['Jan', 'Feb', 'March', 'Apr', 'May', 'June']}\n",
    "    result = dict(zip(my_dict['month_num'], my_dict['name_of_month']))\n",
    "    return result"
   ]
  },
  {
   "cell_type": "code",
   "execution_count": 7,
   "id": "b4db1c4d",
   "metadata": {},
   "outputs": [
    {
     "data": {
      "text/plain": [
       "{1: 'Jan', 2: 'Feb', 3: 'March', 4: 'Apr', 5: 'May', 6: 'June'}"
      ]
     },
     "execution_count": 7,
     "metadata": {},
     "output_type": "execute_result"
    }
   ],
   "source": [
    "flat_dict()"
   ]
  },
  {
   "cell_type": "markdown",
   "id": "1882e953",
   "metadata": {},
   "source": [
    "#### Q5.\tWrite a Python program to insertion at the beginning in OrderedDict?\n",
    "Sol:"
   ]
  },
  {
   "cell_type": "code",
   "execution_count": 8,
   "id": "0f761cff",
   "metadata": {},
   "outputs": [],
   "source": [
    "from collections import OrderedDict\n",
    "def Ordered_Dict():\n",
    "\n",
    "    inordered_dict = OrderedDict([('Col1', 'Red'), ('Col2', 'Purple')])\n",
    "\n",
    "    inordered_dict.update({'Col':'Orange'})\n",
    "    inordered_dict.move_to_end('Col', last = False)\n",
    "\n",
    "    return (\"Ordered Dictionary after insertion : \"+str(inordered_dict))"
   ]
  },
  {
   "cell_type": "code",
   "execution_count": 9,
   "id": "e8e38513",
   "metadata": {},
   "outputs": [
    {
     "data": {
      "text/plain": [
       "\"Ordered Dictionary after insertion : OrderedDict([('Col', 'Orange'), ('Col1', 'Red'), ('Col2', 'Purple')])\""
      ]
     },
     "execution_count": 9,
     "metadata": {},
     "output_type": "execute_result"
    }
   ],
   "source": [
    " Ordered_Dict()"
   ]
  },
  {
   "cell_type": "markdown",
   "id": "20c9f00c",
   "metadata": {},
   "source": [
    "#### Q6.\tWrite a Python program to check order of character in string using OrderedDict()?\n",
    "Sol:"
   ]
  },
  {
   "cell_type": "code",
   "execution_count": 10,
   "id": "972b8731",
   "metadata": {},
   "outputs": [
    {
     "name": "stdout",
     "output_type": "stream",
     "text": [
      "False\n"
     ]
    }
   ],
   "source": [
    "from collections import OrderedDict\n",
    "def checkOrder(string, pattern): \n",
    "    dic = OrderedDict.fromkeys(string) \n",
    "    ptr = 0\n",
    "    for key,value in dic.items(): \n",
    "        if (key == pattern[ptr]): \n",
    "            ptr = ptr + 1\n",
    "        if (ptr == (len(pattern))): \n",
    "            return 'True'\n",
    "    return 'False'\n",
    "\n",
    "string = 'Study tonight'\n",
    "pattern = 'Stu'\n",
    "\n",
    "string2= 'Welcome'\n",
    "pattern2= 'wel'\n",
    "print (checkOrder(string2,pattern2)) "
   ]
  },
  {
   "cell_type": "code",
   "execution_count": 11,
   "id": "21114f93",
   "metadata": {},
   "outputs": [
    {
     "data": {
      "text/plain": [
       "'True'"
      ]
     },
     "execution_count": 11,
     "metadata": {},
     "output_type": "execute_result"
    }
   ],
   "source": [
    "checkOrder(string, pattern)"
   ]
  },
  {
   "cell_type": "code",
   "execution_count": 12,
   "id": "55158604",
   "metadata": {},
   "outputs": [
    {
     "data": {
      "text/plain": [
       "'False'"
      ]
     },
     "execution_count": 12,
     "metadata": {},
     "output_type": "execute_result"
    }
   ],
   "source": [
    "checkOrder(string2, pattern2)"
   ]
  },
  {
   "cell_type": "markdown",
   "id": "c3b944c4",
   "metadata": {},
   "source": [
    "#### Q7.\tWrite a Python program to sort Python Dictionaries by Key or Value?\n",
    "Sol:"
   ]
  },
  {
   "cell_type": "code",
   "execution_count": 13,
   "id": "74363588",
   "metadata": {},
   "outputs": [
    {
     "name": "stdout",
     "output_type": "stream",
     "text": [
      "['2', '4', 'k1', 'k3', 'key4', 'key6']\n",
      "[1, 2, 10, 15, 22, 100]\n",
      "[('2', 100), ('4', 2), ('k1', 10), ('k3', 1), ('key4', 22), ('key6', 15)]\n"
     ]
    }
   ],
   "source": [
    "dic = {'k1':10, '4':2, 'k3':1, 'key4':22, '2':100, 'key6':15}\n",
    "print(sorted(dic.keys())) #sort dict by key\n",
    "print(sorted(dic.values())) #sort dict by value\n",
    "print(sorted(dic.items()))  #sort dict by items"
   ]
  },
  {
   "cell_type": "code",
   "execution_count": null,
   "id": "006bab4b",
   "metadata": {},
   "outputs": [],
   "source": []
  },
  {
   "cell_type": "code",
   "execution_count": null,
   "id": "a5bda771",
   "metadata": {},
   "outputs": [],
   "source": []
  }
 ],
 "metadata": {
  "kernelspec": {
   "display_name": "Python 3 (ipykernel)",
   "language": "python",
   "name": "python3"
  },
  "language_info": {
   "codemirror_mode": {
    "name": "ipython",
    "version": 3
   },
   "file_extension": ".py",
   "mimetype": "text/x-python",
   "name": "python",
   "nbconvert_exporter": "python",
   "pygments_lexer": "ipython3",
   "version": "3.9.7"
  }
 },
 "nbformat": 4,
 "nbformat_minor": 5
}
