{
 "cells": [
  {
   "cell_type": "markdown",
   "id": "bae278b5",
   "metadata": {},
   "source": [
    "## Assignment-9"
   ]
  },
  {
   "cell_type": "markdown",
   "id": "3102cbff",
   "metadata": {},
   "source": [
    "#### Q1. Write a Python program to check if the given number is a Disarium Number?\n",
    "Sol:\n"
   ]
  },
  {
   "cell_type": "code",
   "execution_count": 60,
   "id": "5a8e81c6",
   "metadata": {},
   "outputs": [],
   "source": [
    "def Disarium(num):\n",
    "    total = 0\n",
    "    num = str(num)\n",
    "    for i in range(0, len(num)):\n",
    "        n = int(num[i])\n",
    "        n = n**(i+1)\n",
    "        total = total + n\n",
    "\n",
    "    if total == int(num):\n",
    "        return True\n",
    "    else:\n",
    "        return False"
   ]
  },
  {
   "cell_type": "code",
   "execution_count": 61,
   "id": "e00dcde3",
   "metadata": {},
   "outputs": [
    {
     "data": {
      "text/plain": [
       "True"
      ]
     },
     "execution_count": 61,
     "metadata": {},
     "output_type": "execute_result"
    }
   ],
   "source": [
    "Disarium(175)"
   ]
  },
  {
   "cell_type": "code",
   "execution_count": 62,
   "id": "f37e424a",
   "metadata": {},
   "outputs": [
    {
     "data": {
      "text/plain": [
       "False"
      ]
     },
     "execution_count": 62,
     "metadata": {},
     "output_type": "execute_result"
    }
   ],
   "source": [
    "Disarium(125)"
   ]
  },
  {
   "cell_type": "markdown",
   "id": "4d7e3851",
   "metadata": {},
   "source": [
    "#### Q2.\tWrite a Python program to print all disarium numbers between 1 to 100?\n",
    "Sol:"
   ]
  },
  {
   "cell_type": "code",
   "execution_count": 63,
   "id": "ea79fadf",
   "metadata": {},
   "outputs": [
    {
     "name": "stdout",
     "output_type": "stream",
     "text": [
      "1\n",
      "2\n",
      "3\n",
      "4\n",
      "5\n",
      "6\n",
      "7\n",
      "8\n",
      "9\n",
      "89\n"
     ]
    }
   ],
   "source": [
    "for i in range(1,100):\n",
    "    if Disarium(i) == True:\n",
    "        print(i)"
   ]
  },
  {
   "cell_type": "markdown",
   "id": "72ee7fc1",
   "metadata": {},
   "source": [
    "#### Q3.\tWrite a Python program to check if the given number is Happy Number?\n",
    "Sol:"
   ]
  },
  {
   "cell_type": "code",
   "execution_count": 80,
   "id": "cc2a08fa",
   "metadata": {},
   "outputs": [],
   "source": [
    "def Happy_num(num):\n",
    "    res = num; \n",
    "    \n",
    "    def isHappy(num):    \n",
    "        r = 0;  \n",
    "        s = 0\n",
    "        while(num > 0):    \n",
    "            r = num%10    \n",
    "            s += r**2  \n",
    "            num //= 10    \n",
    "        return s     \n",
    "\n",
    "    while(res != 1 and res != 4):    \n",
    "        res = isHappy(res)    \n",
    "\n",
    "    if(res == 1):    \n",
    "        return True\n",
    "    elif(res == 4):    \n",
    "        return False"
   ]
  },
  {
   "cell_type": "code",
   "execution_count": 81,
   "id": "8c0a09c1",
   "metadata": {},
   "outputs": [
    {
     "data": {
      "text/plain": [
       "True"
      ]
     },
     "execution_count": 81,
     "metadata": {},
     "output_type": "execute_result"
    }
   ],
   "source": [
    " Happy_num(100)"
   ]
  },
  {
   "cell_type": "code",
   "execution_count": 83,
   "id": "4fe778b4",
   "metadata": {},
   "outputs": [
    {
     "data": {
      "text/plain": [
       "False"
      ]
     },
     "execution_count": 83,
     "metadata": {},
     "output_type": "execute_result"
    }
   ],
   "source": [
    " Happy_num(189)"
   ]
  },
  {
   "cell_type": "markdown",
   "id": "265b1f18",
   "metadata": {},
   "source": [
    "#### Q4.\tWrite a Python program to print all happy numbers between 1 and 100?\n",
    "Sol:"
   ]
  },
  {
   "cell_type": "code",
   "execution_count": 84,
   "id": "e824ff33",
   "metadata": {},
   "outputs": [
    {
     "name": "stdout",
     "output_type": "stream",
     "text": [
      "1\n",
      "7\n",
      "10\n",
      "13\n",
      "19\n",
      "23\n",
      "28\n",
      "31\n",
      "32\n",
      "44\n",
      "49\n",
      "68\n",
      "70\n",
      "79\n",
      "82\n",
      "86\n",
      "91\n",
      "94\n",
      "97\n"
     ]
    }
   ],
   "source": [
    "for i in range(1,100):\n",
    "    if Happy_num(i) == True:\n",
    "        print(i)"
   ]
  },
  {
   "cell_type": "markdown",
   "id": "b873476c",
   "metadata": {},
   "source": [
    "#### Q5. Write a Python program to determine whether the given number is a Harshad Number?\n",
    "Sol:"
   ]
  },
  {
   "cell_type": "code",
   "execution_count": 89,
   "id": "1d624530",
   "metadata": {},
   "outputs": [],
   "source": [
    "def Harshad(num):\n",
    "    rem = 0\n",
    "    Sum = 0\n",
    "    n = num\n",
    "    while(n > 0):\n",
    "        rem =num%10\n",
    "        Sum = Sum + rem\n",
    "        num = num/10\n",
    "        if(n%Sum==0):\n",
    "            return True\n",
    "        else:\n",
    "            return False    \n",
    "        "
   ]
  },
  {
   "cell_type": "code",
   "execution_count": 90,
   "id": "d56763b0",
   "metadata": {},
   "outputs": [
    {
     "data": {
      "text/plain": [
       "False"
      ]
     },
     "execution_count": 90,
     "metadata": {},
     "output_type": "execute_result"
    }
   ],
   "source": [
    "Harshad(113)"
   ]
  },
  {
   "cell_type": "code",
   "execution_count": 91,
   "id": "1a81fc29",
   "metadata": {},
   "outputs": [
    {
     "data": {
      "text/plain": [
       "True"
      ]
     },
     "execution_count": 91,
     "metadata": {},
     "output_type": "execute_result"
    }
   ],
   "source": [
    "Harshad(122)"
   ]
  },
  {
   "cell_type": "code",
   "execution_count": 92,
   "id": "fa62f958",
   "metadata": {},
   "outputs": [
    {
     "data": {
      "text/plain": [
       "True"
      ]
     },
     "execution_count": 92,
     "metadata": {},
     "output_type": "execute_result"
    }
   ],
   "source": [
    "Harshad(156)"
   ]
  },
  {
   "cell_type": "markdown",
   "id": "72a56072",
   "metadata": {},
   "source": [
    "#### Q6. Write a Python program to print all pronic numbers between 1 and 100?\n",
    "Sol:"
   ]
  },
  {
   "cell_type": "code",
   "execution_count": 102,
   "id": "c3a3deef",
   "metadata": {},
   "outputs": [
    {
     "name": "stdout",
     "output_type": "stream",
     "text": [
      "0\n",
      "2\n",
      "6\n",
      "12\n",
      "20\n",
      "30\n",
      "42\n",
      "56\n",
      "72\n",
      "90\n"
     ]
    }
   ],
   "source": [
    "i = 0\n",
    "while True:\n",
    "    pronicNum = i*(i+1)\n",
    "    i = i + 1\n",
    "    if pronicNum > 100:\n",
    "        break\n",
    "    print(pronicNum)"
   ]
  },
  {
   "cell_type": "code",
   "execution_count": null,
   "id": "6a6bde4e",
   "metadata": {},
   "outputs": [],
   "source": []
  }
 ],
 "metadata": {
  "kernelspec": {
   "display_name": "Python 3 (ipykernel)",
   "language": "python",
   "name": "python3"
  },
  "language_info": {
   "codemirror_mode": {
    "name": "ipython",
    "version": 3
   },
   "file_extension": ".py",
   "mimetype": "text/x-python",
   "name": "python",
   "nbconvert_exporter": "python",
   "pygments_lexer": "ipython3",
   "version": "3.9.7"
  }
 },
 "nbformat": 4,
 "nbformat_minor": 5
}
