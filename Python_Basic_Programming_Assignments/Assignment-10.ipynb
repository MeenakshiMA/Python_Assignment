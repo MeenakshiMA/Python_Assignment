{
 "cells": [
  {
   "cell_type": "markdown",
   "id": "8fe5b325",
   "metadata": {},
   "source": [
    "## Assignment-10"
   ]
  },
  {
   "cell_type": "markdown",
   "id": "dc0300d4",
   "metadata": {},
   "source": [
    "#### Q1.\tWrite a Python program to find sum of elements in list?\n",
    "Sol:"
   ]
  },
  {
   "cell_type": "code",
   "execution_count": 1,
   "id": "348f4da1",
   "metadata": {},
   "outputs": [
    {
     "data": {
      "text/plain": [
       "15"
      ]
     },
     "execution_count": 1,
     "metadata": {},
     "output_type": "execute_result"
    }
   ],
   "source": [
    "l = [1,2,3,4,5]\n",
    "total = 0\n",
    "for i in l:\n",
    "    total +=i\n",
    "total"
   ]
  },
  {
   "cell_type": "code",
   "execution_count": 2,
   "id": "f42ee6c5",
   "metadata": {},
   "outputs": [],
   "source": [
    "def sum_of_list(NumList):\n",
    "    total = 0\n",
    "    for j in range(len(NumList)):\n",
    "        total = total + NumList[j]\n",
    "    return total"
   ]
  },
  {
   "cell_type": "code",
   "execution_count": 3,
   "id": "8573e88f",
   "metadata": {},
   "outputs": [
    {
     "data": {
      "text/plain": [
       "15"
      ]
     },
     "execution_count": 3,
     "metadata": {},
     "output_type": "execute_result"
    }
   ],
   "source": [
    "sum_of_list([1,2,3,4,5])"
   ]
  },
  {
   "cell_type": "markdown",
   "id": "84a080dd",
   "metadata": {},
   "source": [
    "#### Q2. Write a Python program to  Multiply all numbers in the list?\n",
    "Sol:"
   ]
  },
  {
   "cell_type": "code",
   "execution_count": 4,
   "id": "3cafc9d5",
   "metadata": {},
   "outputs": [],
   "source": [
    "def mul_of_list(NumList):\n",
    "    total = 1\n",
    "    for j in range(len(NumList)):\n",
    "        total = total * NumList[j]\n",
    "    return total"
   ]
  },
  {
   "cell_type": "code",
   "execution_count": 5,
   "id": "8f7ea33d",
   "metadata": {},
   "outputs": [
    {
     "data": {
      "text/plain": [
       "120"
      ]
     },
     "execution_count": 5,
     "metadata": {},
     "output_type": "execute_result"
    }
   ],
   "source": [
    "mul_of_list([1,2,3,4,5])"
   ]
  },
  {
   "cell_type": "markdown",
   "id": "3ff4ba96",
   "metadata": {},
   "source": [
    "#### Q3. Write a Python program to find smallest number in a list?\n",
    "Sol:"
   ]
  },
  {
   "cell_type": "code",
   "execution_count": 6,
   "id": "fe624115",
   "metadata": {},
   "outputs": [],
   "source": [
    "def small_num_list(NumList):\n",
    "    small = NumList[0]\n",
    "    for i in NumList:\n",
    "        if i < small:\n",
    "            small = i\n",
    "    return small\n"
   ]
  },
  {
   "cell_type": "code",
   "execution_count": 7,
   "id": "b4bf29b5",
   "metadata": {},
   "outputs": [
    {
     "data": {
      "text/plain": [
       "-16767"
      ]
     },
     "execution_count": 7,
     "metadata": {},
     "output_type": "execute_result"
    }
   ],
   "source": [
    "small_num_list([12,42,234,467,-16767])"
   ]
  },
  {
   "cell_type": "markdown",
   "id": "d3a9297c",
   "metadata": {},
   "source": [
    "#### Q4.\tWrite a Python program to find largest number in a list?\n",
    "Sol:"
   ]
  },
  {
   "cell_type": "code",
   "execution_count": 8,
   "id": "f37c48ca",
   "metadata": {},
   "outputs": [],
   "source": [
    "def large_num_list(NumList):\n",
    "    Large = NumList[0]\n",
    "    for i in NumList:\n",
    "        if i > Large:\n",
    "            Large = i\n",
    "    return Large"
   ]
  },
  {
   "cell_type": "code",
   "execution_count": 9,
   "id": "e3e97ca9",
   "metadata": {},
   "outputs": [
    {
     "data": {
      "text/plain": [
       "467"
      ]
     },
     "execution_count": 9,
     "metadata": {},
     "output_type": "execute_result"
    }
   ],
   "source": [
    "large_num_list([12,42,234,467,-16767])"
   ]
  },
  {
   "cell_type": "markdown",
   "id": "5c1d8fec",
   "metadata": {},
   "source": [
    "#### Q5.\tWrite a Python program to find second largest number in a list?\n",
    "Sol:"
   ]
  },
  {
   "cell_type": "code",
   "execution_count": 10,
   "id": "1f1c9fe2",
   "metadata": {},
   "outputs": [
    {
     "name": "stdout",
     "output_type": "stream",
     "text": [
      "Second Largest number is: 234\n"
     ]
    }
   ],
   "source": [
    "l = [12,42,234,467,-16767]\n",
    "l.sort(reverse = True)\n",
    "print(\"Second Largest number is:\" ,l[1])"
   ]
  },
  {
   "cell_type": "markdown",
   "id": "a76eae5c",
   "metadata": {},
   "source": [
    "#### Q6.\tWrite a Python program to find N largest elements from a list?\n",
    "Sol:"
   ]
  },
  {
   "cell_type": "code",
   "execution_count": 11,
   "id": "4f3bd80f",
   "metadata": {},
   "outputs": [],
   "source": [
    "def N_large_num(List,n):\n",
    "    List.sort(reverse = True)\n",
    "    return List[n-1]\n",
    "\n",
    "list = [23,34,45,1,56,1212,122,543]"
   ]
  },
  {
   "cell_type": "code",
   "execution_count": 12,
   "id": "2309daf8",
   "metadata": {},
   "outputs": [
    {
     "data": {
      "text/plain": [
       "45"
      ]
     },
     "execution_count": 12,
     "metadata": {},
     "output_type": "execute_result"
    }
   ],
   "source": [
    "N_large_num(list,5)"
   ]
  },
  {
   "cell_type": "markdown",
   "id": "40421644",
   "metadata": {},
   "source": [
    "#### Q7.\tWrite a Python program to print even numbers in a list?\n",
    "Sol:"
   ]
  },
  {
   "cell_type": "code",
   "execution_count": 13,
   "id": "9270c9d2",
   "metadata": {},
   "outputs": [],
   "source": [
    "def even_num_list(List):\n",
    "    l = []\n",
    "    for i in List:\n",
    "        if i%2 == 0:\n",
    "            l.append(i)\n",
    "    return l\n",
    "            "
   ]
  },
  {
   "cell_type": "code",
   "execution_count": 14,
   "id": "951e2dbb",
   "metadata": {},
   "outputs": [
    {
     "data": {
      "text/plain": [
       "[76, 12, 34, 88]"
      ]
     },
     "execution_count": 14,
     "metadata": {},
     "output_type": "execute_result"
    }
   ],
   "source": [
    "even_num_list([1,123,345,76,12,34,88])"
   ]
  },
  {
   "cell_type": "markdown",
   "id": "07ae73e6",
   "metadata": {},
   "source": [
    "#### Q8. Write a Python program to print odd numbers in a List?\n",
    "Sol:"
   ]
  },
  {
   "cell_type": "code",
   "execution_count": 15,
   "id": "95a3c24f",
   "metadata": {},
   "outputs": [],
   "source": [
    "def odd_num_list(List):\n",
    "    l = []\n",
    "    for i in List:\n",
    "        if i%2 != 0:\n",
    "            l.append(i)\n",
    "    return l"
   ]
  },
  {
   "cell_type": "code",
   "execution_count": 16,
   "id": "fc7b455b",
   "metadata": {},
   "outputs": [
    {
     "data": {
      "text/plain": [
       "[1, 123, 345]"
      ]
     },
     "execution_count": 16,
     "metadata": {},
     "output_type": "execute_result"
    }
   ],
   "source": [
    "odd_num_list([1,123,345,76,12,34,88])"
   ]
  },
  {
   "cell_type": "markdown",
   "id": "3b0842a6",
   "metadata": {},
   "source": [
    "#### Q9.\tWrite a Python program to Remove empty List from List?\n",
    "Sol:"
   ]
  },
  {
   "cell_type": "code",
   "execution_count": 6,
   "id": "341e92a7",
   "metadata": {},
   "outputs": [
    {
     "data": {
      "text/plain": [
       "[[1], [56], 543, [5, 54, 1], [0], [9, 8]]"
      ]
     },
     "execution_count": 6,
     "metadata": {},
     "output_type": "execute_result"
    }
   ],
   "source": [
    "List = [[1],[56],543,[],[5,54,1],[],[0],[],[9,8],[]]\n",
    "l1 = []\n",
    "for i in List:\n",
    "    if type(i) == list:\n",
    "        if len(i) != 0:\n",
    "            l1.append(i)\n",
    "    else:\n",
    "        l1.append(i)\n",
    "l1"
   ]
  },
  {
   "cell_type": "markdown",
   "id": "aa214ecf",
   "metadata": {},
   "source": [
    "#### Q10.\tWrite a Python program to Cloning or Copying a list?\n",
    "Sol:"
   ]
  },
  {
   "cell_type": "code",
   "execution_count": 2,
   "id": "98f7d65d",
   "metadata": {},
   "outputs": [],
   "source": [
    "def copy_list(l):\n",
    "    new_lst = []\n",
    "    for i in l:\n",
    "        new_lst.append(i)\n",
    "    return new_lst"
   ]
  },
  {
   "cell_type": "code",
   "execution_count": 3,
   "id": "c3774b34",
   "metadata": {},
   "outputs": [
    {
     "data": {
      "text/plain": [
       "[1, 2, 3, 4, 5, 6]"
      ]
     },
     "execution_count": 3,
     "metadata": {},
     "output_type": "execute_result"
    }
   ],
   "source": [
    "copy_list([1,2,3,4,5,6])"
   ]
  },
  {
   "cell_type": "markdown",
   "id": "8c50e309",
   "metadata": {},
   "source": [
    "#### Q11.\tWrite a Python program to Count occurrences of an element in a list?\n",
    "Sol:"
   ]
  },
  {
   "cell_type": "code",
   "execution_count": 4,
   "id": "862e5ec9",
   "metadata": {},
   "outputs": [],
   "source": [
    "def Count_occurrences(lst,ele):\n",
    "    count = 0\n",
    "    for i in lst:\n",
    "        if i == ele:\n",
    "            count = count+1\n",
    "    return count\n",
    "    \n",
    "    "
   ]
  },
  {
   "cell_type": "code",
   "execution_count": 5,
   "id": "dcf9d787",
   "metadata": {},
   "outputs": [
    {
     "data": {
      "text/plain": [
       "4"
      ]
     },
     "execution_count": 5,
     "metadata": {},
     "output_type": "execute_result"
    }
   ],
   "source": [
    "Count_occurrences(['a','a',2,'b','b','b','3','3',5,5,5,5],5)"
   ]
  },
  {
   "cell_type": "code",
   "execution_count": null,
   "id": "6a4402a4",
   "metadata": {},
   "outputs": [],
   "source": []
  },
  {
   "cell_type": "code",
   "execution_count": null,
   "id": "c7e7cb99",
   "metadata": {},
   "outputs": [],
   "source": []
  }
 ],
 "metadata": {
  "kernelspec": {
   "display_name": "Python 3 (ipykernel)",
   "language": "python",
   "name": "python3"
  },
  "language_info": {
   "codemirror_mode": {
    "name": "ipython",
    "version": 3
   },
   "file_extension": ".py",
   "mimetype": "text/x-python",
   "name": "python",
   "nbconvert_exporter": "python",
   "pygments_lexer": "ipython3",
   "version": "3.9.7"
  }
 },
 "nbformat": 4,
 "nbformat_minor": 5
}
