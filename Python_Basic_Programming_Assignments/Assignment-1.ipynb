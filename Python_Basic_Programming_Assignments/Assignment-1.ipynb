{
 "cells": [
  {
   "cell_type": "markdown",
   "id": "3cf133f3",
   "metadata": {},
   "source": [
    "## Assignment-1"
   ]
  },
  {
   "cell_type": "markdown",
   "id": "afcc1447",
   "metadata": {},
   "source": [
    "#### Q1. Write a Python program to print \"Hello Python\"?\n",
    "   \n",
    "\n"
   ]
  },
  {
   "cell_type": "code",
   "execution_count": 3,
   "id": "e9fe6649",
   "metadata": {},
   "outputs": [
    {
     "name": "stdout",
     "output_type": "stream",
     "text": [
      "Hello python\n"
     ]
    }
   ],
   "source": [
    "#Solution\n",
    "s = \"Hello python\"\n",
    "print(s)"
   ]
  },
  {
   "cell_type": "markdown",
   "id": "0eefd271",
   "metadata": {},
   "source": [
    "#### 2. Write a Python program to do arithmetical operations addition and division.?"
   ]
  },
  {
   "cell_type": "code",
   "execution_count": 4,
   "id": "54af3711",
   "metadata": {},
   "outputs": [
    {
     "name": "stdout",
     "output_type": "stream",
     "text": [
      "30\n",
      "0.5\n"
     ]
    }
   ],
   "source": [
    "#Solution\n",
    "a = 10 \n",
    "b = 20\n",
    "\n",
    "#addition\n",
    "add = a + b\n",
    "\n",
    "#division\n",
    "div = a / b\n",
    "\n",
    "print(add)\n",
    "print(div)"
   ]
  },
  {
   "cell_type": "markdown",
   "id": "1e8cd571",
   "metadata": {},
   "source": [
    "#### 3. Write a Python program to find the area of a triangle?"
   ]
  },
  {
   "cell_type": "code",
   "execution_count": 5,
   "id": "584ac5cb",
   "metadata": {},
   "outputs": [
    {
     "name": "stdout",
     "output_type": "stream",
     "text": [
      "Enter base of a triangle...: 23\n",
      "Enter height of a triangle...: 23\n",
      "The area of the triangle is:  264.5\n"
     ]
    }
   ],
   "source": [
    "#solution\n",
    "b = float(input('Enter base of a triangle...: '))\n",
    "h = float(input('Enter height of a triangle...: '))\n",
    "\n",
    "area = (b * h) / 2\n",
    "print('The area of the triangle is: ',area)"
   ]
  },
  {
   "cell_type": "markdown",
   "id": "b0b95c68",
   "metadata": {},
   "source": [
    "#### 4. Write a Python program to swap two variables?"
   ]
  },
  {
   "cell_type": "code",
   "execution_count": 6,
   "id": "d173a483",
   "metadata": {},
   "outputs": [
    {
     "name": "stdout",
     "output_type": "stream",
     "text": [
      "Enter value of a : 111\n",
      "Enter value of b : 333\n",
      "\n",
      "Before swap : a = 111 and b = 333\n",
      "\n",
      "After swaping a = 333 and b = 111\n",
      "\n"
     ]
    }
   ],
   "source": [
    "#solution\n",
    "a = int(input('Enter value of a : '))\n",
    "b = int(input('Enter value of b : '))\n",
    "print(\"\\nBefore swap : a = {} and b = {}\" . format(a,b))\n",
    "a, b = b, a\n",
    "print(\"\\nAfter swaping a = {} and b = {}\" . format(a, b))\n",
    "print()"
   ]
  },
  {
   "cell_type": "markdown",
   "id": "8f54d219",
   "metadata": {},
   "source": [
    "#### 5. Write a Python program to generate a random number?"
   ]
  },
  {
   "cell_type": "code",
   "execution_count": 13,
   "id": "b69d0f1c",
   "metadata": {},
   "outputs": [
    {
     "name": "stdout",
     "output_type": "stream",
     "text": [
      "0.20869007804117168\n",
      "1291\n"
     ]
    }
   ],
   "source": [
    "#solution\n",
    "import random \n",
    "print(random.random())\n",
    "print(random.randint(1, 2000))"
   ]
  },
  {
   "cell_type": "code",
   "execution_count": null,
   "id": "7125e7ce",
   "metadata": {},
   "outputs": [],
   "source": []
  },
  {
   "cell_type": "code",
   "execution_count": null,
   "id": "6178a12a",
   "metadata": {},
   "outputs": [],
   "source": []
  }
 ],
 "metadata": {
  "kernelspec": {
   "display_name": "Python 3 (ipykernel)",
   "language": "python",
   "name": "python3"
  },
  "language_info": {
   "codemirror_mode": {
    "name": "ipython",
    "version": 3
   },
   "file_extension": ".py",
   "mimetype": "text/x-python",
   "name": "python",
   "nbconvert_exporter": "python",
   "pygments_lexer": "ipython3",
   "version": "3.9.7"
  }
 },
 "nbformat": 4,
 "nbformat_minor": 5
}
