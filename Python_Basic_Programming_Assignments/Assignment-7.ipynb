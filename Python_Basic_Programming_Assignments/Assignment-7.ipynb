{
 "cells": [
  {
   "cell_type": "markdown",
   "id": "2a4fa9af",
   "metadata": {},
   "source": [
    "## Assignment-7"
   ]
  },
  {
   "cell_type": "markdown",
   "id": "646a356f",
   "metadata": {},
   "source": [
    "#### Q1. Write a Python Program to find sum of array?\n",
    "Sol:\n"
   ]
  },
  {
   "cell_type": "code",
   "execution_count": 14,
   "id": "653e330c",
   "metadata": {},
   "outputs": [
    {
     "name": "stdout",
     "output_type": "stream",
     "text": [
      "Sum of array 583\n"
     ]
    }
   ],
   "source": [
    "array = [12,234,56,213,58,10]\n",
    "SumArray= 0\n",
    "for i in array:\n",
    "    SumArray += i\n",
    "    \n",
    "print(\"Sum of array\", SumArray)"
   ]
  },
  {
   "cell_type": "code",
   "execution_count": 15,
   "id": "4902890e",
   "metadata": {},
   "outputs": [
    {
     "data": {
      "text/plain": [
       "583"
      ]
     },
     "execution_count": 15,
     "metadata": {},
     "output_type": "execute_result"
    }
   ],
   "source": [
    "def arr_sum(n):\n",
    "    arr= 0\n",
    "    for i in n:\n",
    "        arr = arr+i\n",
    "    return arr\n",
    "\n",
    "arr_sum([12,234,56,213,58,10])"
   ]
  },
  {
   "cell_type": "markdown",
   "id": "05797a6b",
   "metadata": {},
   "source": [
    "#### Q2.\tWrite a Python Program to find largest element in an array?\n",
    "Sol:\n"
   ]
  },
  {
   "cell_type": "code",
   "execution_count": 16,
   "id": "474e2802",
   "metadata": {},
   "outputs": [
    {
     "data": {
      "text/plain": [
       "567"
      ]
     },
     "execution_count": 16,
     "metadata": {},
     "output_type": "execute_result"
    }
   ],
   "source": [
    "array = [23,25,567,89,234,129]\n",
    "largest = 0\n",
    "for i in array:\n",
    "    if i >largest :\n",
    "        largest = i\n",
    "largest"
   ]
  },
  {
   "cell_type": "code",
   "execution_count": 17,
   "id": "a681a41e",
   "metadata": {},
   "outputs": [],
   "source": [
    "array = [23,25,567,89,234,129]\n",
    "\n",
    "def large(n):\n",
    "    largest = 0\n",
    "    for i in n:\n",
    "        if i > largest :\n",
    "            largest = i\n",
    "        else:\n",
    "            pass\n",
    "    return largest"
   ]
  },
  {
   "cell_type": "code",
   "execution_count": 18,
   "id": "96ce4afd",
   "metadata": {},
   "outputs": [
    {
     "data": {
      "text/plain": [
       "567"
      ]
     },
     "execution_count": 18,
     "metadata": {},
     "output_type": "execute_result"
    }
   ],
   "source": [
    "large(array)"
   ]
  },
  {
   "cell_type": "markdown",
   "id": "b9961236",
   "metadata": {},
   "source": [
    "#### Q3. Write a Python Program for array rotation?\n",
    "Sol:"
   ]
  },
  {
   "cell_type": "code",
   "execution_count": 19,
   "id": "da36f6d0",
   "metadata": {},
   "outputs": [
    {
     "name": "stdout",
     "output_type": "stream",
     "text": [
      "Original array: \n",
      "1\n",
      "2\n",
      "3\n",
      "4\n",
      "5\n",
      "Array after left rotation: \n",
      "3\n",
      "4\n",
      "5\n",
      "1\n",
      "2\n"
     ]
    }
   ],
   "source": [
    "arr = [1, 2, 3, 4, 5]   \n",
    "n = 2 \n",
    "print(\"Original array: \")   \n",
    "for i in range(0, len(arr)):    \n",
    "    print(arr[i])    \n",
    "\n",
    "for i in range(0, n):    \n",
    "    first = arr[0]   \n",
    "        \n",
    "    for j in range(0, len(arr)-1):    \n",
    "        arr[j] = arr[j+1]       \n",
    "    arr[len(arr)-1] = first    \n",
    "\n",
    "print(\"Array after left rotation: \") \n",
    "for i in range(0, len(arr)):    \n",
    "    print(arr[i])"
   ]
  },
  {
   "cell_type": "markdown",
   "id": "fa8ebf4f",
   "metadata": {},
   "source": [
    "#### Q4.\tWrite a Python Program to Split the array and add the first part to the end?\n",
    "Sol:\n"
   ]
  },
  {
   "cell_type": "code",
   "execution_count": 20,
   "id": "1318e182",
   "metadata": {},
   "outputs": [
    {
     "name": "stdout",
     "output_type": "stream",
     "text": [
      " output array is [5, 17, 10, 13]\n"
     ]
    }
   ],
   "source": [
    "def split(arr, k):\n",
    "    arr = arr[k:] + arr[:k]\n",
    "    return arr\n",
    "   \n",
    "k = 2\n",
    "arr = [10, 13, 5, 17]\n",
    "print(\" output array is\", split(arr, k))"
   ]
  },
  {
   "cell_type": "markdown",
   "id": "964b4ede",
   "metadata": {},
   "source": [
    "#### Q5. Write a Python Program to check if given array is Monotonic?\n",
    "Sol:"
   ]
  },
  {
   "cell_type": "code",
   "execution_count": 21,
   "id": "f1dbfe46",
   "metadata": {},
   "outputs": [],
   "source": [
    "def monotonicCheck(array):\n",
    "    flag = True\n",
    "    \n",
    "    if array[0] >= array[len(array)-1]:\n",
    "        for i in range(len(array)-2):\n",
    "            if array[i] < array[i+1]:\n",
    "                flag = False\n",
    "    else:\n",
    "        for i in range(len(array)-2):\n",
    "            if array[i] > array[i+1]:\n",
    "                flag = False\n",
    "                \n",
    "    return flag"
   ]
  },
  {
   "cell_type": "code",
   "execution_count": 22,
   "id": "12bc7cfc",
   "metadata": {},
   "outputs": [
    {
     "data": {
      "text/plain": [
       "False"
      ]
     },
     "execution_count": 22,
     "metadata": {},
     "output_type": "execute_result"
    }
   ],
   "source": [
    " monotonicCheck([10, 13, 5, 17,76])"
   ]
  },
  {
   "cell_type": "code",
   "execution_count": 23,
   "id": "56448e43",
   "metadata": {},
   "outputs": [
    {
     "data": {
      "text/plain": [
       "True"
      ]
     },
     "execution_count": 23,
     "metadata": {},
     "output_type": "execute_result"
    }
   ],
   "source": [
    " monotonicCheck([10, 13, 17,19,23,34,45])"
   ]
  },
  {
   "cell_type": "code",
   "execution_count": 24,
   "id": "cb40775b",
   "metadata": {},
   "outputs": [
    {
     "data": {
      "text/plain": [
       "True"
      ]
     },
     "execution_count": 24,
     "metadata": {},
     "output_type": "execute_result"
    }
   ],
   "source": [
    " monotonicCheck([10,9,8,7,6,5,4])"
   ]
  },
  {
   "cell_type": "code",
   "execution_count": null,
   "id": "fe8078db",
   "metadata": {},
   "outputs": [],
   "source": []
  }
 ],
 "metadata": {
  "kernelspec": {
   "display_name": "Python 3 (ipykernel)",
   "language": "python",
   "name": "python3"
  },
  "language_info": {
   "codemirror_mode": {
    "name": "ipython",
    "version": 3
   },
   "file_extension": ".py",
   "mimetype": "text/x-python",
   "name": "python",
   "nbconvert_exporter": "python",
   "pygments_lexer": "ipython3",
   "version": "3.9.7"
  }
 },
 "nbformat": 4,
 "nbformat_minor": 5
}
