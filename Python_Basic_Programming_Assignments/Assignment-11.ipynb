{
 "cells": [
  {
   "cell_type": "markdown",
   "id": "739f7325",
   "metadata": {},
   "source": [
    "## Assignment-11"
   ]
  },
  {
   "cell_type": "markdown",
   "id": "02a5d10a",
   "metadata": {},
   "source": [
    "#### Q1.\tWrite a Python program to find words which are greater than given length k?\n",
    "Sol:"
   ]
  },
  {
   "cell_type": "code",
   "execution_count": 12,
   "id": "5817aa93",
   "metadata": {},
   "outputs": [],
   "source": [
    "def word_k(k, s):\n",
    "    word = s.split(\" \")\n",
    "    for i in word:\n",
    "        if len(i)>k:\n",
    "            yield(i)"
   ]
  },
  {
   "cell_type": "code",
   "execution_count": 13,
   "id": "c965c8ee",
   "metadata": {},
   "outputs": [
    {
     "name": "stdout",
     "output_type": "stream",
     "text": [
      "python\n",
      "programming\n",
      "assignment\n"
     ]
    }
   ],
   "source": [
    "for i in word_k(5,('this is basic python programming assignment 11')) :\n",
    "    print(i)"
   ]
  },
  {
   "cell_type": "markdown",
   "id": "5b18d8d3",
   "metadata": {},
   "source": [
    "#### Q2.\tWrite a Python program for removing i-th character from a string?\n",
    "Sol:"
   ]
  },
  {
   "cell_type": "code",
   "execution_count": 19,
   "id": "b7c560b2",
   "metadata": {},
   "outputs": [],
   "source": [
    "def remo_char(i,s):\n",
    "    a = s[ : i]\n",
    "    b = s[i + 1: ]\n",
    "    return a+b\n",
    "    "
   ]
  },
  {
   "cell_type": "code",
   "execution_count": 21,
   "id": "9d1d8337",
   "metadata": {},
   "outputs": [
    {
     "data": {
      "text/plain": [
       "'pythn'"
      ]
     },
     "execution_count": 21,
     "metadata": {},
     "output_type": "execute_result"
    }
   ],
   "source": [
    "remo_char(i-1,'python')"
   ]
  },
  {
   "cell_type": "markdown",
   "id": "77af1ebd",
   "metadata": {},
   "source": [
    "#### Q3.\tWrite a Python program to split and join a string?\n",
    "Sol:"
   ]
  },
  {
   "cell_type": "code",
   "execution_count": 39,
   "id": "95119c4b",
   "metadata": {},
   "outputs": [],
   "source": [
    "def split_str(string):\n",
    "    split = string.split(' ')\n",
    "    return split\n",
    "\n",
    "def join_str(split):\n",
    "    join = '-'.join(split)\n",
    "    return join\n",
    "\n",
    "string = \"This program for split and join a string\"\n",
    "split = split_str(string)\n",
    "join = join_str(split)"
   ]
  },
  {
   "cell_type": "code",
   "execution_count": 40,
   "id": "d4505797",
   "metadata": {},
   "outputs": [
    {
     "data": {
      "text/plain": [
       "['This', 'program', 'for', 'split', 'and', 'join', 'a', 'string']"
      ]
     },
     "execution_count": 40,
     "metadata": {},
     "output_type": "execute_result"
    }
   ],
   "source": [
    "split_str(string)"
   ]
  },
  {
   "cell_type": "code",
   "execution_count": 41,
   "id": "7414f03f",
   "metadata": {},
   "outputs": [
    {
     "data": {
      "text/plain": [
       "'This-program-for-split-and-join-a-string'"
      ]
     },
     "execution_count": 41,
     "metadata": {},
     "output_type": "execute_result"
    }
   ],
   "source": [
    "join_str(split)"
   ]
  },
  {
   "cell_type": "markdown",
   "id": "a8460925",
   "metadata": {},
   "source": [
    "#### Q4.\tWrite a Python to check if a given string is binary string or not?\n",
    "Sol:"
   ]
  },
  {
   "cell_type": "code",
   "execution_count": 9,
   "id": "26708dbc",
   "metadata": {},
   "outputs": [],
   "source": [
    "def is_str_binary(String):\n",
    "    binary = ['0','1']\n",
    "    is_binary = True\n",
    "    for i in String:\n",
    "        if i not in binary:\n",
    "            is_binary = False\n",
    "    \n",
    "    if is_binary:\n",
    "        return \"Given String is Binary\"\n",
    "    else :\n",
    "        return \"Given String is Not Binary\""
   ]
  },
  {
   "cell_type": "code",
   "execution_count": 10,
   "id": "792d6dce",
   "metadata": {},
   "outputs": [
    {
     "data": {
      "text/plain": [
       "'Given String is Binary'"
      ]
     },
     "execution_count": 10,
     "metadata": {},
     "output_type": "execute_result"
    }
   ],
   "source": [
    "is_str_binary(\"01010101101\")"
   ]
  },
  {
   "cell_type": "code",
   "execution_count": 11,
   "id": "6acb5967",
   "metadata": {},
   "outputs": [
    {
     "data": {
      "text/plain": [
       "'Given String is Not Binary'"
      ]
     },
     "execution_count": 11,
     "metadata": {},
     "output_type": "execute_result"
    }
   ],
   "source": [
    "is_str_binary(\"abcdef\")"
   ]
  },
  {
   "cell_type": "markdown",
   "id": "41877c0d",
   "metadata": {},
   "source": [
    "#### Q5.\tWrite a Python program to find uncommon words from two Strings?\n",
    "Sol:"
   ]
  },
  {
   "cell_type": "code",
   "execution_count": 16,
   "id": "cb5b9ddd",
   "metadata": {},
   "outputs": [],
   "source": [
    "def uncommon(s1,s2):\n",
    "    string1 = s1.split(' ')\n",
    "    string2 = s2.split(' ')\n",
    "    uncommon = []\n",
    "    for i in set(string1):\n",
    "        if i not in string2:\n",
    "            uncommon.append(i)\n",
    "        \n",
    "    for i in set(string2):\n",
    "        if i not in string1:\n",
    "            uncommon.append(i)\n",
    "    \n",
    "    return uncommon\n",
    "\n",
    "string1 = \"Write a Python program to split and join a string\"\n",
    "string2 = \"Write a Python program to find uncommon words from two Strings\"\n",
    "         "
   ]
  },
  {
   "cell_type": "code",
   "execution_count": 17,
   "id": "c8b55f39",
   "metadata": {},
   "outputs": [
    {
     "data": {
      "text/plain": [
       "['split',\n",
       " 'join',\n",
       " 'string',\n",
       " 'and',\n",
       " 'Strings',\n",
       " 'uncommon',\n",
       " 'find',\n",
       " 'from',\n",
       " 'words',\n",
       " 'two']"
      ]
     },
     "execution_count": 17,
     "metadata": {},
     "output_type": "execute_result"
    }
   ],
   "source": [
    "uncommon(string1,string2)"
   ]
  },
  {
   "cell_type": "markdown",
   "id": "9071ed20",
   "metadata": {},
   "source": [
    "#### Q6.\tWrite a Python to find all duplicate characters in string?\n",
    "Sol:"
   ]
  },
  {
   "cell_type": "code",
   "execution_count": 33,
   "id": "80ec67c7",
   "metadata": {},
   "outputs": [],
   "source": [
    "def dupicate(string : str):\n",
    "    dup = []\n",
    "    for i in string:\n",
    "        if string.count(i) > 1:\n",
    "            dup.append(i)\n",
    "            \n",
    "    return set(dup)\n",
    "\n",
    "string = \"find all duplictae character in string\""
   ]
  },
  {
   "cell_type": "code",
   "execution_count": 34,
   "id": "0c02fde1",
   "metadata": {},
   "outputs": [
    {
     "data": {
      "text/plain": [
       "{' ', 'a', 'c', 'd', 'e', 'i', 'l', 'n', 'r', 't'}"
      ]
     },
     "execution_count": 34,
     "metadata": {},
     "output_type": "execute_result"
    }
   ],
   "source": [
    "dupicate(string)"
   ]
  },
  {
   "cell_type": "markdown",
   "id": "907de306",
   "metadata": {},
   "source": [
    "#### Q7.\tWrite a Python Program to check if a string contains any special character?\n",
    "Sol:"
   ]
  },
  {
   "cell_type": "code",
   "execution_count": 38,
   "id": "3de43483",
   "metadata": {},
   "outputs": [],
   "source": [
    "import re\n",
    "def special_char(string):\n",
    "    regex = re.compile('[@_!#$%^&*()<>?/\\|}{~:]')\n",
    "    if regex.search(string) == None :\n",
    "        return \"String doesn't contains special character\"\n",
    "    else:\n",
    "        return \"String contains special character\"\n",
    "    \n"
   ]
  },
  {
   "cell_type": "code",
   "execution_count": 39,
   "id": "99997a32",
   "metadata": {},
   "outputs": [
    {
     "data": {
      "text/plain": [
       "'String contains special character'"
      ]
     },
     "execution_count": 39,
     "metadata": {},
     "output_type": "execute_result"
    }
   ],
   "source": [
    "special_char(\"Pas$word@123...\")"
   ]
  },
  {
   "cell_type": "code",
   "execution_count": 40,
   "id": "5cbf2b5f",
   "metadata": {},
   "outputs": [
    {
     "data": {
      "text/plain": [
       "\"String doesn't contains special character\""
      ]
     },
     "execution_count": 40,
     "metadata": {},
     "output_type": "execute_result"
    }
   ],
   "source": [
    "special_char(\"Password123\")"
   ]
  },
  {
   "cell_type": "code",
   "execution_count": null,
   "id": "ac69f485",
   "metadata": {},
   "outputs": [],
   "source": []
  }
 ],
 "metadata": {
  "kernelspec": {
   "display_name": "Python 3 (ipykernel)",
   "language": "python",
   "name": "python3"
  },
  "language_info": {
   "codemirror_mode": {
    "name": "ipython",
    "version": 3
   },
   "file_extension": ".py",
   "mimetype": "text/x-python",
   "name": "python",
   "nbconvert_exporter": "python",
   "pygments_lexer": "ipython3",
   "version": "3.9.7"
  }
 },
 "nbformat": 4,
 "nbformat_minor": 5
}
