{
 "cells": [
  {
   "cell_type": "markdown",
   "id": "90a66135",
   "metadata": {},
   "source": [
    "## Assignment-6"
   ]
  },
  {
   "cell_type": "markdown",
   "id": "caa9ecb8",
   "metadata": {},
   "source": [
    "#### Q1.\tWrite a Python Program to Display Fibonacci Sequence Using Recursion?\n",
    "Sol:"
   ]
  },
  {
   "cell_type": "code",
   "execution_count": 1,
   "id": "fb4ac7ea",
   "metadata": {},
   "outputs": [
    {
     "name": "stdout",
     "output_type": "stream",
     "text": [
      "10\n",
      "Fibonacci sequence:\n",
      "0\n",
      "1\n",
      "1\n",
      "2\n",
      "3\n",
      "5\n",
      "8\n",
      "13\n",
      "21\n",
      "34\n"
     ]
    }
   ],
   "source": [
    "def recur_fibo(n):\n",
    "    if n <= 1:\n",
    "        return n\n",
    "    else : \n",
    "        return(recur_fibo(n-1) + recur_fibo(n-2))\n",
    "\n",
    "nterms = int(input())\n",
    "if nterms <= 0:\n",
    "    print(\"Plese enter a positive integer\")\n",
    "else:\n",
    "    print(\"Fibonacci sequence:\")\n",
    "    for i in range(nterms):\n",
    "        print(recur_fibo(i))"
   ]
  },
  {
   "cell_type": "markdown",
   "id": "390641c1",
   "metadata": {},
   "source": [
    "#### Q2.\tWrite a Python Program to Find Factorial of Number Using Recursion?\n",
    "Sol:"
   ]
  },
  {
   "cell_type": "code",
   "execution_count": 2,
   "id": "722ae0ee",
   "metadata": {},
   "outputs": [],
   "source": [
    "def fact(num):\n",
    "    if num == 0 :\n",
    "        return 1\n",
    "    else:\n",
    "        return num*fact(num-1)"
   ]
  },
  {
   "cell_type": "code",
   "execution_count": 3,
   "id": "c2fef9fc",
   "metadata": {},
   "outputs": [
    {
     "data": {
      "text/plain": [
       "720"
      ]
     },
     "execution_count": 3,
     "metadata": {},
     "output_type": "execute_result"
    }
   ],
   "source": [
    "fact(6)"
   ]
  },
  {
   "cell_type": "markdown",
   "id": "b7e68925",
   "metadata": {},
   "source": [
    "#### Q3.\tWrite a Python Program to calculate your Body Mass Index?\n",
    "Sol:"
   ]
  },
  {
   "cell_type": "code",
   "execution_count": 4,
   "id": "787a8bdc",
   "metadata": {},
   "outputs": [],
   "source": [
    "def bmi(height, weight):\n",
    "    \n",
    "    return weight/(height*height)\n"
   ]
  },
  {
   "cell_type": "code",
   "execution_count": 5,
   "id": "1903561e",
   "metadata": {},
   "outputs": [
    {
     "data": {
      "text/plain": [
       "1.8491124260355027"
      ]
     },
     "execution_count": 5,
     "metadata": {},
     "output_type": "execute_result"
    }
   ],
   "source": [
    "bmi(5.2,50)"
   ]
  },
  {
   "cell_type": "markdown",
   "id": "dfc382b7",
   "metadata": {},
   "source": [
    "#### Q4. Write a Python Program to calculate the natural logarithm of any number?\n",
    "Sol:"
   ]
  },
  {
   "cell_type": "code",
   "execution_count": 6,
   "id": "2b9fcd7b",
   "metadata": {},
   "outputs": [
    {
     "name": "stdout",
     "output_type": "stream",
     "text": [
      "Enter a number: 10\n"
     ]
    },
    {
     "data": {
      "text/plain": [
       "2.302585092994046"
      ]
     },
     "execution_count": 6,
     "metadata": {},
     "output_type": "execute_result"
    }
   ],
   "source": [
    "import math\n",
    "num = int(input(\"Enter a number: \"))\n",
    "math.log(num)"
   ]
  },
  {
   "cell_type": "markdown",
   "id": "60ab9654",
   "metadata": {},
   "source": [
    "#### Q5.\tWrite a Python Program for cube sum of first n natural numbers?\n",
    "Sol:"
   ]
  },
  {
   "cell_type": "code",
   "execution_count": 7,
   "id": "06a33e7e",
   "metadata": {},
   "outputs": [],
   "source": [
    "def CubeSum(num):\n",
    "    s=0\n",
    "    for i in range(num+1):\n",
    "        s+=i**3\n",
    "    return s"
   ]
  },
  {
   "cell_type": "code",
   "execution_count": 8,
   "id": "2bb7a4f6",
   "metadata": {},
   "outputs": [
    {
     "data": {
      "text/plain": [
       "100"
      ]
     },
     "execution_count": 8,
     "metadata": {},
     "output_type": "execute_result"
    }
   ],
   "source": [
    "CubeSum(4)"
   ]
  },
  {
   "cell_type": "code",
   "execution_count": null,
   "id": "fac7f6b3",
   "metadata": {},
   "outputs": [],
   "source": []
  }
 ],
 "metadata": {
  "kernelspec": {
   "display_name": "Python 3 (ipykernel)",
   "language": "python",
   "name": "python3"
  },
  "language_info": {
   "codemirror_mode": {
    "name": "ipython",
    "version": 3
   },
   "file_extension": ".py",
   "mimetype": "text/x-python",
   "name": "python",
   "nbconvert_exporter": "python",
   "pygments_lexer": "ipython3",
   "version": "3.9.7"
  }
 },
 "nbformat": 4,
 "nbformat_minor": 5
}
