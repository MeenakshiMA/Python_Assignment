{
 "cells": [
  {
   "cell_type": "markdown",
   "id": "782070ac",
   "metadata": {},
   "source": [
    "## Assignment-8"
   ]
  },
  {
   "cell_type": "markdown",
   "id": "f5cef228",
   "metadata": {},
   "source": [
    "#### Q1.\tWrite a Python Program to Add Two Matrices?\n",
    "Sol:"
   ]
  },
  {
   "cell_type": "code",
   "execution_count": 2,
   "id": "9cd44452",
   "metadata": {},
   "outputs": [
    {
     "name": "stdout",
     "output_type": "stream",
     "text": [
      "[2, 4, 6]\n",
      "[8, 10, 12]\n",
      "[14, 16, 18]\n"
     ]
    }
   ],
   "source": [
    "M1 = [[1,2,3], [4,5,6], [7,8,9]]\n",
    "M2 = [[1,2,3], [4,5,6], [7,8,9]]\n",
    "result = [[0,0,0],[0,0,0],[0,0,0]]\n",
    "for i in range(len(M1)):\n",
    "    for j in range(len(M1[0])):\n",
    "        result[i][j] = M1[i][j] + M2[i][j]\n",
    "\n",
    "for r in result:\n",
    "    print(r)"
   ]
  },
  {
   "cell_type": "markdown",
   "id": "20989b36",
   "metadata": {},
   "source": [
    "#### Q2.\tWrite a Python Program to Multiply Two Matrices?\n",
    "Sol:\n"
   ]
  },
  {
   "cell_type": "code",
   "execution_count": 3,
   "id": "b43fdd8a",
   "metadata": {},
   "outputs": [
    {
     "name": "stdout",
     "output_type": "stream",
     "text": [
      "[1, 4, 9]\n",
      "[16, 25, 36]\n",
      "[49, 64, 81]\n"
     ]
    }
   ],
   "source": [
    "M1 = [[1,2,3], [4,5,6], [7,8,9]]\n",
    "M2 = [[1,2,3], [4,5,6], [7,8,9]]\n",
    "result = [[0,0,0],[0,0,0],[0,0,0]]\n",
    "for i in range(len(M1)):\n",
    "    for j in range(len(M1[0])):\n",
    "        result[i][j] = M1[i][j] * M2[i][j]\n",
    "\n",
    "for r in result:\n",
    "    print(r)"
   ]
  },
  {
   "cell_type": "markdown",
   "id": "a28ac55b",
   "metadata": {},
   "source": [
    "#### Q3. Write a Python Program to Transpose a Matrix?\n",
    "Sol:"
   ]
  },
  {
   "cell_type": "code",
   "execution_count": 6,
   "id": "7def7cb9",
   "metadata": {},
   "outputs": [
    {
     "name": "stdout",
     "output_type": "stream",
     "text": [
      "[1, 4, 7]\n",
      "[2, 5, 8]\n"
     ]
    }
   ],
   "source": [
    "M1 = [[1,2], [4,5], [7,8]]\n",
    "result = [[0,0,0],[0,0,0]]\n",
    "\n",
    "for i in range(len(M1)):\n",
    "    for j in range(len(M1[0])):\n",
    "        result[j][i] = M1[i][j]\n",
    "\n",
    "for r in result:\n",
    "    print(r)"
   ]
  },
  {
   "cell_type": "markdown",
   "id": "a9e6197b",
   "metadata": {},
   "source": [
    "#### Q4.\tWrite a Python Program to Sort Words in Alphabetic Order?\n",
    "Sol:"
   ]
  },
  {
   "cell_type": "code",
   "execution_count": 12,
   "id": "6d072a6a",
   "metadata": {},
   "outputs": [
    {
     "name": "stdout",
     "output_type": "stream",
     "text": [
      "Enter a string: This task from python programming assignment\n",
      "This\n",
      "assignment\n",
      "from\n",
      "programming\n",
      "python\n",
      "task\n"
     ]
    }
   ],
   "source": [
    "alpha = input(\"Enter a string: \")\n",
    "words=alpha.split()\n",
    "words.sort()\n",
    "for word in words:\n",
    "    print(word)\n"
   ]
  },
  {
   "cell_type": "markdown",
   "id": "30815432",
   "metadata": {},
   "source": [
    "#### Q5. Write a Python Program to Remove Punctuation From a String?\n",
    "Sol:"
   ]
  },
  {
   "cell_type": "code",
   "execution_count": 17,
   "id": "e8e1c8c2",
   "metadata": {},
   "outputs": [
    {
     "name": "stdout",
     "output_type": "stream",
     "text": [
      "Enter a string:    Hello!! @ (This $String is,without % punctuation;.)\n",
      " Hello  This String iswithout  punctuation\n"
     ]
    }
   ],
   "source": [
    "Punctuation = '''!()-[]{};:'\"\\,<>./?@#$%^&*_~'''\n",
    "String = input(\"Enter a string:    \")\n",
    "resultString = \" \"\n",
    "for word in String:\n",
    "    if word not in Punctuation:\n",
    "        resultString = resultString + word\n",
    "    \n",
    "print(resultString )\n",
    "        "
   ]
  },
  {
   "cell_type": "code",
   "execution_count": null,
   "id": "02e9ac72",
   "metadata": {},
   "outputs": [],
   "source": []
  }
 ],
 "metadata": {
  "kernelspec": {
   "display_name": "Python 3 (ipykernel)",
   "language": "python",
   "name": "python3"
  },
  "language_info": {
   "codemirror_mode": {
    "name": "ipython",
    "version": 3
   },
   "file_extension": ".py",
   "mimetype": "text/x-python",
   "name": "python",
   "nbconvert_exporter": "python",
   "pygments_lexer": "ipython3",
   "version": "3.9.7"
  }
 },
 "nbformat": 4,
 "nbformat_minor": 5
}
