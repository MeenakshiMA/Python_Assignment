{
 "cells": [
  {
   "cell_type": "code",
   "execution_count": 2,
   "id": "4a02e148",
   "metadata": {},
   "outputs": [
    {
     "data": {
      "text/plain": [
       "7"
      ]
     },
     "execution_count": 2,
     "metadata": {},
     "output_type": "execute_result"
    }
   ],
   "source": [
    "\"\"\"1. write a fun which will take string and return a len os it \n",
    "without using a inbuilt fun len.\"\"\"\n",
    "\n",
    "def length(a): \n",
    "    \"\"\"length is user defined function and pass the string and give the length of a given string.\"\"\"\n",
    "    count = 0\n",
    "    for i in a:\n",
    "        count = count + 1\n",
    "    return count\n",
    "\n",
    "length('ineuron')\n",
    "    "
   ]
  },
  {
   "cell_type": "code",
   "execution_count": null,
   "id": "11bb2e6a",
   "metadata": {},
   "outputs": [],
   "source": []
  },
  {
   "cell_type": "code",
   "execution_count": 3,
   "id": "a412ee49",
   "metadata": {},
   "outputs": [
    {
     "name": "stdout",
     "output_type": "stream",
     "text": [
      "0 1\n",
      "1 4\n",
      "2 5\n",
      "3 63.13\n",
      "4 meena\n"
     ]
    }
   ],
   "source": [
    "\"\"\"2. write a fun which will be able to print an index of all \n",
    "primitive element which will you pass.\"\"\"\n",
    "\n",
    "def ind(*args):\n",
    "    \"\"\"ind is user defined function and primitive elements and it will give the index of given elements. \n",
    "    *args is used to pass variable, number of arguments to a function.\"\"\"\n",
    "\n",
    "    for i in range(len(args)):\n",
    "        print (i, end = \" \")\n",
    "        print (args[i])\n",
    "        \n",
    "ind(1, 4, 5, 63.13,'meena')\n",
    "\n",
    "    "
   ]
  },
  {
   "cell_type": "code",
   "execution_count": null,
   "id": "97af0a13",
   "metadata": {},
   "outputs": [],
   "source": []
  },
  {
   "cell_type": "code",
   "execution_count": 4,
   "id": "12260436",
   "metadata": {},
   "outputs": [
    {
     "data": {
      "text/plain": [
       "[dict_values(['xyz', 123, (3+6j), 'meena']),\n",
       " dict_values(['ineuron', 323, [1, 2, 3]])]"
      ]
     },
     "execution_count": 4,
     "metadata": {},
     "output_type": "execute_result"
    }
   ],
   "source": [
    "\"\"\"3. write a fun which will take input as a dict and give me out as a\n",
    "list of all the values even in case of 2 level nesting it should work.\"\"\"\n",
    "\n",
    "def dic(c,d):\n",
    "    \"\"\"dic is user defined function which will take input as dictionary and give output as list of all dictionary values. \"\"\"\n",
    "    n = []\n",
    "    if type(c) == dict:\n",
    "        n.append(c.values())\n",
    "        if type(d) == dict:\n",
    "            n.append(d.values())\n",
    "            \n",
    "        \n",
    "    return n \n",
    "\n",
    "\n",
    "dic({'key':'xyz', 'key1':123, 'key2':3+6j, 'key3':'meena'}, {'a':'ineuron', 'b':323, 'key2':[1,2,3]})\n",
    "            "
   ]
  },
  {
   "cell_type": "code",
   "execution_count": null,
   "id": "cc24a059",
   "metadata": {},
   "outputs": [],
   "source": []
  },
  {
   "cell_type": "code",
   "execution_count": 5,
   "id": "3d927c01",
   "metadata": {},
   "outputs": [
    {
     "data": {
      "text/plain": [
       "'INERON'"
      ]
     },
     "execution_count": 5,
     "metadata": {},
     "output_type": "execute_result"
    }
   ],
   "source": [
    "\"\"\"4. write a fun which will take another fun as a input and return me an output.\"\"\"\n",
    "\n",
    "def infun(a):\n",
    "    \"\"\"infun is user defined function pass the string and give output of another function.\"\"\"\n",
    "    return a.upper()  \n",
    "    \n",
    "infun('ineron')"
   ]
  },
  {
   "cell_type": "code",
   "execution_count": null,
   "id": "2e95d7c0",
   "metadata": {},
   "outputs": [],
   "source": []
  },
  {
   "cell_type": "code",
   "execution_count": 8,
   "id": "a16cad7a",
   "metadata": {},
   "outputs": [
    {
     "data": {
      "text/plain": [
       "[12, 34.4, 'meena', 23, 46, (9+6j), 'function']"
      ]
     },
     "execution_count": 8,
     "metadata": {},
     "output_type": "execute_result"
    }
   ],
   "source": [
    "\"\"\"5. write a fun which will take list as a input and give me concatination \n",
    "of all the element as and output.\"\"\"\n",
    "\n",
    "def lst(*args):\n",
    "    l = []\n",
    "    for i in args:\n",
    "        l = l + i\n",
    "    return l\n",
    "    \n",
    "\n",
    "lst([12,34.4,'meena'], [23,46,9+6j,'function',])\n",
    "        "
   ]
  },
  {
   "cell_type": "code",
   "execution_count": null,
   "id": "f9d33691",
   "metadata": {},
   "outputs": [],
   "source": []
  },
  {
   "cell_type": "code",
   "execution_count": 10,
   "id": "0567b88d",
   "metadata": {
    "scrolled": true
   },
   "outputs": [
    {
     "name": "stdout",
     "output_type": "stream",
     "text": [
      "0 meena\n",
      "1 12\n",
      "2 3.4\n",
      "3 12\n",
      "4 23\n",
      "5 43\n",
      "6 meena\n",
      "7 12\n",
      "8 43\n",
      "9 32\n",
      "10 32\n"
     ]
    }
   ],
   "source": [
    "\"\"\"6. write a fun which will be able to take list as an input return an\n",
    "index of each element like a inbuilt index function but even if we have\n",
    "repetative element it should return index. \"\"\"\n",
    "\n",
    "def l1(l):\n",
    "    for i in range(len(l)):\n",
    "         if type(l)==list: \n",
    "                print(i,l[i])\n",
    "            \n",
    "    \n",
    "l1(['meena',12,3.4,12,23,43,'meena',12,43,32,32])  "
   ]
  },
  {
   "cell_type": "code",
   "execution_count": null,
   "id": "4c83a444",
   "metadata": {},
   "outputs": [],
   "source": []
  },
  {
   "cell_type": "code",
   "execution_count": 15,
   "id": "4eee3ddb",
   "metadata": {},
   "outputs": [
    {
     "name": "stdout",
     "output_type": "stream",
     "text": [
      "Current date and time : \n",
      "2022-01-08 09:58:24.492967\n"
     ]
    }
   ],
   "source": [
    "\"\"\"9. write a function which will be able to show date and time.\"\"\"\n",
    "import datetime \n",
    "def date_time():\n",
    "    now = datetime.datetime.now()\n",
    "    print (\"Current date and time : \")\n",
    "    print (now)\n",
    "date_time()\n"
   ]
  },
  {
   "cell_type": "code",
   "execution_count": null,
   "id": "c8ddba3d",
   "metadata": {},
   "outputs": [],
   "source": []
  },
  {
   "cell_type": "code",
   "execution_count": 14,
   "id": "03f0ee0c",
   "metadata": {},
   "outputs": [
    {
     "name": "stdout",
     "output_type": "stream",
     "text": [
      "System IP is: 192.168.1.4\n"
     ]
    }
   ],
   "source": [
    "\"\"\"19. write a function by which you can print an ip address of your system.\"\"\"\n",
    "import socket  \n",
    "def get_IP():\n",
    "    hostname = socket.gethostname()\n",
    "    IP = socket.gethostbyname(hostname) \n",
    "    print('System IP is:',IP) \n",
    "get_IP()"
   ]
  },
  {
   "cell_type": "code",
   "execution_count": null,
   "id": "ca3f316a",
   "metadata": {},
   "outputs": [],
   "source": []
  },
  {
   "cell_type": "code",
   "execution_count": null,
   "id": "cc843b4d",
   "metadata": {},
   "outputs": [],
   "source": []
  }
 ],
 "metadata": {
  "kernelspec": {
   "display_name": "Python 3",
   "language": "python",
   "name": "python3"
  },
  "language_info": {
   "codemirror_mode": {
    "name": "ipython",
    "version": 3
   },
   "file_extension": ".py",
   "mimetype": "text/x-python",
   "name": "python",
   "nbconvert_exporter": "python",
   "pygments_lexer": "ipython3",
   "version": "3.8.8"
  }
 },
 "nbformat": 4,
 "nbformat_minor": 5
}

