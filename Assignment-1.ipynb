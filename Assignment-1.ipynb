{
 "cells": [
  {
   "cell_type": "markdown",
   "id": "010107be",
   "metadata": {},
   "source": [
    "# Assignment-1 "
   ]
  },
  {
   "cell_type": "raw",
   "id": "e2414dcc",
   "metadata": {},
   "source": [
    "Q1. In the below elements which of them are values or an expression? eg:- values can be integer or string and expressions       will be mathematical operators.\n",
    " * \n",
    " 'hello'\n",
    " -87.8\n",
    " - \n",
    " / \n",
    " +\t\n",
    " 6 \n",
    "\n",
    "Ans- Values: 'hello', -87.8, 6\n",
    "     Expressions : *,/,-,+"
   ]
  },
  {
   "cell_type": "raw",
   "id": "143cc40b",
   "metadata": {},
   "source": [
    "Q2. What is the difference between string and variable?\n",
    "\n",
    "Ans- String :                                             \n",
    "   * A string is type of informationwould you store in variable.\n",
    "   * A string is the value assigned inside the qoutes. \n",
    "  \n",
    "    Variable:\n",
    "   * A varialbe is store of information.\n",
    "   * A variable is the name of the loaction in the primary memory of     compute.\n",
    "   "
   ]
  },
  {
   "cell_type": "raw",
   "id": "87636829",
   "metadata": {},
   "source": [
    "Q3. Describe three different data types.\n",
    "Ans- 1. Integer:\n",
    "              * Integer represented by int class. \n",
    "              * It contains positive or nagative whole numbres(without fraction or decimal).\n",
    "              * In python there is no limit to how long an integer value can be.\n",
    "              Ex: int 5623625, int 1, int 23.\n",
    "     \n",
    "     2. String:\n",
    "              * In python strings are arrays of bytes representing Unicode characters.\n",
    "              * Strings are collection of one or more characters put in a single or double quote\n",
    "              * Strings are represented by str.\n",
    "              Ex: str meena, str Ineuron.\n",
    "              \n",
    "     3. Complex Numbers:\n",
    "              * Complex numbers is represented by complex class.\n",
    "              * Its specified as (real + imaginary) part.\n",
    "              * In python imaginary part is represented by 'j'.\n",
    "              Ex: (3+4j), (2+2j)\n",
    "              "
   ]
  },
  {
   "cell_type": "raw",
   "id": "0b63c110",
   "metadata": {},
   "source": [
    "Q4. What is an expression made up of? what do all expression do?\n",
    "Ans- An expression is a combination of values and operators. All expressions evaluate to a single value\n",
    "    "
   ]
  },
  {
   "cell_type": "raw",
   "id": "051cd196",
   "metadata": {},
   "source": [
    "Q5. This assignments, like spam =10. What is the difference between an expression and a statement? \n",
    "Ans- Expressions :\n",
    "     * An expression evaluates to a single value. \n",
    "     * A Expression is a combination of values, operators and literals which yields something.\n",
    "     Statement :\n",
    "     * A statement does not evalutes a value.\n",
    "     * A Statement is a action or a command that does something.\n",
    "     "
   ]
  },
  {
   "cell_type": "code",
   "execution_count": 7,
   "id": "c46925b3",
   "metadata": {},
   "outputs": [
    {
     "data": {
      "text/plain": [
       "23"
      ]
     },
     "execution_count": 7,
     "metadata": {},
     "output_type": "execute_result"
    }
   ],
   "source": [
    "##Q6. After running the following code, does the variable bacon contain? \n",
    "bacon = 22\n",
    "bacon + 1\n",
    "## Ans- bacon contains 23"
   ]
  },
  {
   "cell_type": "raw",
   "id": "b953b5b9",
   "metadata": {},
   "source": [
    "Q7. What should the values of the following two terms be?\n",
    "    'spam'+'spamspam'\n",
    "    'spam'*3\n",
    "Ans- Both expressions evaluate to the string 'spamspamspam'\n"
   ]
  },
  {
   "cell_type": "raw",
   "id": "4ae24c15",
   "metadata": {},
   "source": [
    "Q8. Why is eggs a valid variable name while 100 is invalid?\n",
    "Ans- Variable begin with a characters not begin with a numbers, so 100 is invalid variable.\n"
   ]
  },
  {
   "cell_type": "raw",
   "id": "65ec6719",
   "metadata": {},
   "source": [
    "Q9. What three functions can be used to get the intger, floating-point number,or string version of a value?\n",
    "Ans- The int(), float(), and str( ) functions will evaluate to the integer, floating-point number, and string versions of      the value passed to them."
   ]
  },
  {
   "cell_type": "raw",
   "id": "1b58bc72",
   "metadata": {},
   "source": [
    "Q10. Why does this expression cause an error?How can you fix it?\n",
    "     'I have eaten'+99+'burritos'\n",
    "Ans- The expression couses an error because 9 is an integer, and only strings can be concatenated to the other strings with      the help of + operator.\n",
    "   -> The correct way is 'i have eaten'+'99'+'burritos'  OR 'i have eaten'+str(99)+'burritos'"
   ]
  },
  {
   "cell_type": "code",
   "execution_count": null,
   "id": "06a0fc23",
   "metadata": {},
   "outputs": [],
   "source": []
  }
 ],
 "metadata": {
  "kernelspec": {
   "display_name": "Python 3",
   "language": "python",
   "name": "python3"
  },
  "language_info": {
   "codemirror_mode": {
    "name": "ipython",
    "version": 3
   },
   "file_extension": ".py",
   "mimetype": "text/x-python",
   "name": "python",
   "nbconvert_exporter": "python",
   "pygments_lexer": "ipython3",
   "version": "3.8.8"
  }
 },
 "nbformat": 4,
 "nbformat_minor": 5
}
