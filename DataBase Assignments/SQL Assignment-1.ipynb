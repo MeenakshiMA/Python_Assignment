{
 "cells": [
  {
   "cell_type": "markdown",
   "id": "cc97de81",
   "metadata": {},
   "source": [
    "## SQL Assignment-1"
   ]
  },
  {
   "cell_type": "markdown",
   "id": "e7a2c108",
   "metadata": {},
   "source": [
    "#### Q-1. Write an SQL query to fetch “FIRST_NAME” from Worker table using the alias name as <WORKER_NAME>.\n",
    "Sol:\n",
    "select FIRST_NAME as WORKER_NAME from worker;"
   ]
  },
  {
   "cell_type": "code",
   "execution_count": null,
   "id": "0c825f44",
   "metadata": {},
   "outputs": [],
   "source": [
    "select FIRST_NAME as WORKER_NAME from Worker;"
   ]
  },
  {
   "cell_type": "markdown",
   "id": "831e7349",
   "metadata": {},
   "source": [
    "#### Q-2. Write an SQL query to fetch unique values of DEPARTMENT from Worker table.\n",
    "Sol: select distinct DEPARTMENT from Worker;"
   ]
  },
  {
   "cell_type": "code",
   "execution_count": null,
   "id": "b3b1c22c",
   "metadata": {},
   "outputs": [],
   "source": [
    "select distinct DEPARTMENT from Worker;"
   ]
  },
  {
   "cell_type": "markdown",
   "id": "706a1c92",
   "metadata": {},
   "source": [
    "#### Q-3. Write an SQL query to show the last 5 record from a table.\n",
    "Sol :(select * from WORKER order by FIRST_NAME desc limit 5) ORDER BY FIRST_NAME ASC;"
   ]
  },
  {
   "cell_type": "code",
   "execution_count": null,
   "id": "e7f7bcb7",
   "metadata": {},
   "outputs": [],
   "source": [
    "(select * from WORKER order by FIRST_NAME desc limit 5) ORDER BY FIRST_NAME ASC;"
   ]
  }
 ],
 "metadata": {
  "kernelspec": {
   "display_name": "Python 3 (ipykernel)",
   "language": "python",
   "name": "python3"
  },
  "language_info": {
   "codemirror_mode": {
    "name": "ipython",
    "version": 3
   },
   "file_extension": ".py",
   "mimetype": "text/x-python",
   "name": "python",
   "nbconvert_exporter": "python",
   "pygments_lexer": "ipython3",
   "version": "3.9.7"
  }
 },
 "nbformat": 4,
 "nbformat_minor": 5
}
