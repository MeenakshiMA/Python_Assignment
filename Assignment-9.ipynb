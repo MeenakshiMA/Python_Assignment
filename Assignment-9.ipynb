{
 "cells": [
  {
   "cell_type": "markdown",
   "id": "61391137",
   "metadata": {},
   "source": [
    "## Assignment-9"
   ]
  },
  {
   "cell_type": "raw",
   "id": "5c539aec",
   "metadata": {},
   "source": [
    "Q1. To what does a relative path refer?\n",
    "Ans- A relative path refers to a location that is relative to a current directory. "
   ]
  },
  {
   "cell_type": "raw",
   "id": "4bde30c7",
   "metadata": {},
   "source": [
    "Q2. What does an absolute path start with your operating system?\n",
    "Ans- absolute path is a complete path from start of actual file system from / directory."
   ]
  },
  {
   "cell_type": "raw",
   "id": "240186b9",
   "metadata": {},
   "source": [
    "Q3. What do the functions os.getcwd() and os.chdir() do?\n",
    "Ans- The os.getcwd() function returns the current working directory. \n",
    "     The os.chdir() function changes the current working directory."
   ]
  },
  {
   "cell_type": "raw",
   "id": "b5e9ec18",
   "metadata": {},
   "source": [
    "Q4. What are the . and .. folders?\n",
    "Ans- The . folder is the current folder, and \n",
    "     The .. folder is the parent folder."
   ]
  },
  {
   "cell_type": "raw",
   "id": "30b76047",
   "metadata": {},
   "source": [
    "Q5. In C:\\bacon\\eggs\\spam.txt, which part is the dir name, and which part is the base name?\n",
    "Ans- C:\\bacon\\eggs is the dir name,\n",
    "     spam.txt is the base name."
   ]
  },
  {
   "cell_type": "raw",
   "id": "7f71e3a4",
   "metadata": {},
   "source": [
    "Q6. What are the three “mode” arguments that can be passed to the open() function?\n",
    "Ans- The string 'r' for read mode, 'w' for write mode, and 'a' for append mode"
   ]
  },
  {
   "cell_type": "raw",
   "id": "bd7e2bd4",
   "metadata": {},
   "source": [
    "Q7. What happens if an existing file is opened in write mode?\n",
    "Ans- An existing file is opened in write mode, its contents are discarded and the file is treated as a new empty file."
   ]
  },
  {
   "cell_type": "raw",
   "id": "6fbf5f6e",
   "metadata": {},
   "source": [
    "Q8. How do you tell the difference between read() and readlines()?\n",
    "Ans- The read() method returns the file's entire contents as a single string value. \n",
    "     The readlines() method returns a list of strings, where each string is a line from the file's contents."
   ]
  },
  {
   "cell_type": "raw",
   "id": "6b773a29",
   "metadata": {},
   "source": [
    "Q9. What data structure does a shelf value resemble?\n",
    "Ans- A shelf value resembles a dictionary value; it has keys and values, along with keys() and values() methods that work        similarly to the dictionary methods of the same names."
   ]
  },
  {
   "cell_type": "raw",
   "id": "7283e0a3",
   "metadata": {},
   "source": []
  }
 ],
 "metadata": {
  "kernelspec": {
   "display_name": "Python 3 (ipykernel)",
   "language": "python",
   "name": "python3"
  },
  "language_info": {
   "codemirror_mode": {
    "name": "ipython",
    "version": 3
   },
   "file_extension": ".py",
   "mimetype": "text/x-python",
   "name": "python",
   "nbconvert_exporter": "python",
   "pygments_lexer": "ipython3",
   "version": "3.9.7"
  }
 },
 "nbformat": 4,
 "nbformat_minor": 5
}
